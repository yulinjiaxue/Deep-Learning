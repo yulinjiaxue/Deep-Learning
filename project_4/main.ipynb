{
 "cells": [
  {
   "cell_type": "markdown",
   "metadata": {},
   "source": [
    "加载数据集"
   ]
  },
  {
   "cell_type": "code",
   "execution_count": 1,
   "metadata": {},
   "outputs": [],
   "source": [
    "import os\n",
    "import json\n",
    "import torch"
   ]
  },
  {
   "cell_type": "code",
   "execution_count": 2,
   "metadata": {},
   "outputs": [],
   "source": [
    "import torch\n",
    "from torch.utils.data import WeightedRandomSampler\n",
    "\n",
    "class AFQMC_Dataset_over():\n",
    "    def __init__(self, data_path, vocab_path):\n",
    "        self.data_path = data_path\n",
    "        self.vocab = self.load_vocab(vocab_path)\n",
    "        self.max_seq_len = 512\n",
    "        self.train_data, self.dev_data, self.test_data = self.load_afqmc_data(self.data_path)\n",
    "        self.dataset_train = self.dataset(self.train_data)\n",
    "        self.dataset_dev = self.dataset(self.dev_data)\n",
    "        self.dataset_train_oversampled = self.create_oversampled_dataset(self.dataset_train)\n",
    "\n",
    "        # 加载词表,返回一个字典\n",
    "    def load_vocab(self, vocab_path):\n",
    "        word_dict = {}\n",
    "        with open(vocab_path, 'r') as f:\n",
    "            for idx, item in enumerate(f.readlines()):\n",
    "                word_dict[item.strip()] = idx\n",
    "\n",
    "        return word_dict\n",
    "    \n",
    "    # 加载数据，将句子和标签存储在一个列表中\n",
    "    def load_dataset(self, file_path, is_test=False):\n",
    "        examples = []\n",
    "        with open(file_path, 'r') as f:\n",
    "            for line in f:\n",
    "                line = json.loads(line)\n",
    "                text_a = line[\"sentence1\"]\n",
    "                text_b = line[\"sentence2\"]\n",
    "                if is_test == True:\n",
    "                    examples.append((text_a, text_b))\n",
    "                else:\n",
    "                    label = line[\"label\"]\n",
    "                    examples.append((text_a, text_b, label))\n",
    "        return examples\n",
    "    \n",
    "    # 字符转id\n",
    "    def words2id(self, examples, word_dict):\n",
    "        input_ids, segment_id, labels = [], [], []\n",
    "        cls_id = word_dict['[CLS]']\n",
    "        sep_id = word_dict['[SEP]']\n",
    "\n",
    "        for example in examples:\n",
    "            text_a, text_b, label = example\n",
    "\n",
    "            input_a = [word_dict[item] if item in word_dict else word_dict['[UNK]'] for item in text_a]\n",
    "            input_b = [word_dict[item] if item in word_dict else word_dict['[UNK]'] for item in text_b]\n",
    "            input_ids_s = [cls_id] + input_a + [sep_id] + input_b + [sep_id]\n",
    "            segment_id_s = [0] * (len(input_a) + 2) + [1] * (len(input_b) + 1)\n",
    "\n",
    "            input_ids.append(input_ids_s)\n",
    "            segment_id.append(segment_id_s)\n",
    "            labels.append(int(label))\n",
    "\n",
    "        return input_ids, segment_id, labels\n",
    "    \n",
    "    def load_afqmc_data(self, data_path):\n",
    "        train_path = os.path.join(data_path, 'train.json')\n",
    "        dev_path = os.path.join(data_path, 'dev.json')\n",
    "        test_path = os.path.join(data_path, 'test.json')\n",
    "\n",
    "        train_data = self.load_dataset(train_path, False)\n",
    "        dev_data = self.load_dataset(dev_path, False)\n",
    "        test_data = self.load_dataset(test_path, True)\n",
    "\n",
    "        return train_data, dev_data, test_data\n",
    "    \n",
    "    def dataset(self, datas):\n",
    "        input_ids, segment_ids, labels = self.words2id(datas, self.vocab)\n",
    "        input_ids = [torch.tensor(sample) for sample in input_ids]\n",
    "        segment_ids = [torch.tensor(sample) for sample in segment_ids]\n",
    "        labels = [torch.tensor(sample) for sample in labels]\n",
    "        return list(zip(input_ids, segment_ids, labels))\n",
    "    \n",
    "    def oversample_labels(self, dataset, labels):\n",
    "        class_counts = torch.bincount(labels)\n",
    "        num_samples = max(class_counts).item()\n",
    "        weights = 1.0 / class_counts.float()\n",
    "        sample_weights = weights[labels]\n",
    "        sampler = WeightedRandomSampler(sample_weights, num_samples=num_samples, replacement=True)\n",
    "        return torch.utils.data.Subset(dataset, list(sampler))\n",
    "\n",
    "    def create_oversampled_dataset(self, dataset):\n",
    "        input_ids, segment_ids, labels = zip(*dataset)\n",
    "        labels = torch.tensor(labels)\n",
    "        dataset = list(zip(input_ids, segment_ids, labels))\n",
    "        oversampled_dataset = self.oversample_labels(dataset, labels)\n",
    "        return oversampled_dataset\n",
    "\n",
    "    \n",
    "    def collate_fn(self, batch_data, pad_val=0, max_seq_len=512):\n",
    "        input_ids, segment_ids, labels = [], [], []\n",
    "        max_len = 0\n",
    "        for example in batch_data:\n",
    "            input_id, segment_id, label = example\n",
    "            input_ids.append(input_id[:max_seq_len])\n",
    "            segment_ids.append(segment_id[:max_seq_len])\n",
    "            labels.append(label)\n",
    "            max_len = max(max_len, len(input_id))\n",
    "        for i in range(len(labels)):\n",
    "            pad_length = max_len - len(input_ids[i])\n",
    "            input_ids[i] = torch.cat([input_ids[i], torch.tensor([pad_val] * pad_length)])\n",
    "            segment_ids[i] = torch.cat([segment_ids[i], torch.tensor([pad_val] * pad_length)])\n",
    "\n",
    "        return (torch.stack(input_ids), torch.stack(segment_ids), torch.tensor(labels))\n",
    "    "
   ]
  },
  {
   "cell_type": "code",
   "execution_count": 3,
   "metadata": {},
   "outputs": [],
   "source": [
    "\n",
    "data_path = './AFQMC数据集/'\n",
    "vocab_path = './vocab.txt'\n",
    "\n",
    "data = AFQMC_Dataset_over(data_path, vocab_path)\n"
   ]
  },
  {
   "cell_type": "code",
   "execution_count": 4,
   "metadata": {},
   "outputs": [
    {
     "name": "stdout",
     "output_type": "stream",
     "text": [
      "('蚂蚁借呗等额还款可以换成先息后本吗', '借呗有先息到期还本吗', '0')\n",
      "(tensor([   1, 3802, 2975, 1051, 4947,   43,  852,  201,  699,   48,   22,  806,\n",
      "          33,  254,  399,   49,   89, 1114,    2, 1051, 4947,    9,  254,  399,\n",
      "          45,  195,  201,   89, 1114,    2]), tensor([0, 0, 0, 0, 0, 0, 0, 0, 0, 0, 0, 0, 0, 0, 0, 0, 0, 0, 0, 1, 1, 1, 1, 1,\n",
      "        1, 1, 1, 1, 1, 1]), tensor(0))\n"
     ]
    }
   ],
   "source": [
    "print(data.train_data[0])\n",
    "print(data.dataset_train[0])\n"
   ]
  },
  {
   "cell_type": "code",
   "execution_count": 5,
   "metadata": {},
   "outputs": [
    {
     "name": "stdout",
     "output_type": "stream",
     "text": [
      "(tensor([   1,  695, 1008,  661,  737,   29,  283, 4947,    2,  283, 4947,  562,\n",
      "         852, 1008,  661,  737,    2]), tensor([0, 0, 0, 0, 0, 0, 0, 0, 0, 1, 1, 1, 1, 1, 1, 1, 1]), tensor(1))\n"
     ]
    }
   ],
   "source": [
    "print(data.dataset_train_oversampled[0])"
   ]
  },
  {
   "cell_type": "code",
   "execution_count": 6,
   "metadata": {},
   "outputs": [
    {
     "name": "stdout",
     "output_type": "stream",
     "text": [
      "Train mini batch:\n",
      "Input IDs: tensor([   1, 3802, 2975, 1051, 4947,   43,  852,  201,  699,   48,   22,  806,\n",
      "          33,  254,  399,   49,   89, 1114,    2, 1051, 4947,    9,  254,  399,\n",
      "          45,  195,  201,   89, 1114,    2])\n",
      "Segment IDs: tensor([0, 0, 0, 0, 0, 0, 0, 0, 0, 0, 0, 0, 0, 0, 0, 0, 0, 0, 0, 1, 1, 1, 1, 1,\n",
      "        1, 1, 1, 1, 1, 1])\n",
      "Labels: tensor(0)\n",
      "Input Text: ['[CLS]', '蚂', '蚁', '借', '呗', '等', '额', '还', '款', '可', '以', '换', '成', '先', '息', '后', '本', '吗', '[SEP]', '借', '呗', '有', '先', '息', '到', '期', '还', '本', '吗', '[SEP]']\n",
      "Label: 0\n"
     ]
    }
   ],
   "source": [
    "my_tuple=data.dataset_train[0]\n",
    "train_input_ids, train_segment_ids, train_labels= my_tuple\n",
    "\n",
    "print(\"Train mini batch:\")\n",
    "print(\"Input IDs:\", train_input_ids)\n",
    "print(\"Segment IDs:\", train_segment_ids)\n",
    "print(\"Labels:\", train_labels)\n",
    "\n",
    "# 将input_ids, segment_ids和labels转换为可读的句子和标签\n",
    "input_ids = train_input_ids.tolist() # 将张量转换为Python列表\n",
    "\n",
    "segment_ids = train_segment_ids.tolist()  # 将张量转换为Python列表\n",
    "\n",
    "labels = train_labels.tolist()  # 将张量转换为Python列表\n",
    "\n",
    "word_dict_inv = {v: k for k, v in data.vocab.items()}\n",
    "input_text = [word_dict_inv[id] for id in input_ids if id != 0]\n",
    "print(\"Input Text:\", input_text)\n",
    "print(\"Label:\", labels)"
   ]
  },
  {
   "cell_type": "code",
   "execution_count": 7,
   "metadata": {},
   "outputs": [],
   "source": [
    "from torch.utils.data import Dataset, DataLoader\n",
    "# 使用DataLoader加载数据\n",
    "batch_size = 2\n",
    "train_dataloader= DataLoader(data.dataset_train, batch_size=batch_size, shuffle=True,collate_fn=data.collate_fn)\n",
    "train_dataloader_over= DataLoader(data.dataset_train_oversampled, batch_size=batch_size, shuffle=True,collate_fn=data.collate_fn)"
   ]
  },
  {
   "cell_type": "code",
   "execution_count": 8,
   "metadata": {},
   "outputs": [
    {
     "name": "stdout",
     "output_type": "stream",
     "text": [
      "(tensor([[1.0000e+00, 2.8300e+02, 4.9470e+03, 4.0000e+00, 1.4200e+02, 2.2800e+02,\n",
      "         4.5000e+01, 1.9500e+02, 1.5400e+02, 7.2000e+01, 2.0100e+02, 6.9900e+02,\n",
      "         4.8000e+01, 2.2000e+01, 9.9800e+02, 1.9500e+02, 2.0100e+02, 6.9900e+02,\n",
      "         1.1140e+03, 2.0000e+00, 2.8300e+02, 4.9470e+03, 1.0100e+03, 7.0000e+00,\n",
      "         2.4000e+02, 1.2500e+02, 2.0100e+02, 6.9900e+02, 4.8000e+01, 2.2000e+01,\n",
      "         1.1140e+03, 2.0000e+00],\n",
      "        [1.0000e+00, 1.0510e+03, 4.9470e+03, 4.8000e+01, 2.2000e+01, 1.6000e+02,\n",
      "         5.0000e+00, 1.3400e+02, 6.9000e+01, 8.5200e+02, 1.3000e+02, 1.0000e+01,\n",
      "         6.5000e+01, 3.3200e+02, 2.0000e+00, 3.8020e+03, 2.9750e+03, 1.0510e+03,\n",
      "         4.9470e+03, 1.3400e+02, 5.6400e+02, 6.5000e+01, 3.3200e+02, 8.5200e+02,\n",
      "         1.3000e+02, 2.0000e+00, 0.0000e+00, 0.0000e+00, 0.0000e+00, 0.0000e+00,\n",
      "         0.0000e+00, 0.0000e+00]]), tensor([[0., 0., 0., 0., 0., 0., 0., 0., 0., 0., 0., 0., 0., 0., 0., 0., 0., 0.,\n",
      "         0., 0., 1., 1., 1., 1., 1., 1., 1., 1., 1., 1., 1., 1.],\n",
      "        [0., 0., 0., 0., 0., 0., 0., 0., 0., 0., 0., 0., 0., 0., 0., 1., 1., 1.,\n",
      "         1., 1., 1., 1., 1., 1., 1., 1., 0., 0., 0., 0., 0., 0.]]), tensor([1, 0]))\n",
      "(tensor([[1.0000e+00, 2.8300e+02, 4.9470e+03, 1.7100e+02, 1.2820e+03, 2.9000e+01,\n",
      "         1.5000e+01, 4.0000e+00, 9.3600e+02, 3.5600e+02, 1.5480e+03, 4.4100e+02,\n",
      "         2.0000e+00, 3.8020e+03, 2.9750e+03, 2.8300e+02, 4.9470e+03, 1.0250e+03,\n",
      "         7.3500e+02, 1.7500e+02, 2.9000e+01, 9.3600e+02, 3.5600e+02, 3.1500e+02,\n",
      "         4.0000e+00, 6.1400e+02, 3.5600e+02, 3.6000e+01, 7.1700e+02, 5.2000e+01,\n",
      "         1.5480e+03, 4.4100e+02, 2.4300e+02, 2.2300e+02, 2.0000e+00],\n",
      "        [1.0000e+00, 2.8300e+02, 4.9470e+03, 1.9980e+03, 5.6200e+02, 8.5200e+02,\n",
      "         1.3000e+02, 9.6000e+01, 3.7000e+01, 7.2600e+02, 3.6000e+01, 8.5200e+02,\n",
      "         1.3000e+02, 9.3600e+02, 3.5600e+02, 3.1500e+02, 2.0000e+00, 2.8300e+02,\n",
      "         4.9470e+03, 5.0000e+00, 7.2600e+02, 3.6000e+01, 8.5200e+02, 1.3000e+02,\n",
      "         6.1400e+02, 3.5600e+02, 3.6000e+01, 7.1700e+02, 8.8000e+01, 4.4000e+02,\n",
      "         2.0100e+02, 6.9900e+02, 2.0000e+00, 0.0000e+00, 0.0000e+00]]), tensor([[0., 0., 0., 0., 0., 0., 0., 0., 0., 0., 0., 0., 0., 1., 1., 1., 1., 1.,\n",
      "         1., 1., 1., 1., 1., 1., 1., 1., 1., 1., 1., 1., 1., 1., 1., 1., 1.],\n",
      "        [0., 0., 0., 0., 0., 0., 0., 0., 0., 0., 0., 0., 0., 0., 0., 0., 0., 1.,\n",
      "         1., 1., 1., 1., 1., 1., 1., 1., 1., 1., 1., 1., 1., 1., 1., 0., 0.]]), tensor([1, 0]))\n"
     ]
    }
   ],
   "source": [
    "# 获取一个batch的数据,这个batch的大小是2\n",
    "batch_data = next(iter(train_dataloader))\n",
    "print(batch_data)\n",
    "\n",
    "batch_data_over = next(iter(train_dataloader_over))\n",
    "print(batch_data_over)"
   ]
  },
  {
   "cell_type": "code",
   "execution_count": 9,
   "metadata": {},
   "outputs": [],
   "source": [
    "label_counts = torch.zeros(2)\n",
    "\n",
    "for _, _, labels in train_dataloader:\n",
    "    for label in labels:\n",
    "        label_counts[label] += 1\n",
    "label_counts_over = torch.zeros(2)\n",
    "\n",
    "for _, _, labels in train_dataloader_over:\n",
    "    for label in labels:\n",
    "        label_counts_over[label] += 1"
   ]
  },
  {
   "cell_type": "code",
   "execution_count": 10,
   "metadata": {},
   "outputs": [
    {
     "name": "stdout",
     "output_type": "stream",
     "text": [
      "tensor([23761., 10573.])\n",
      "tensor([12001., 11760.])\n"
     ]
    }
   ],
   "source": [
    "print(label_counts)\n",
    "\n",
    "print(label_counts_over)"
   ]
  },
  {
   "cell_type": "code",
   "execution_count": 11,
   "metadata": {},
   "outputs": [],
   "source": [
    "import torch\n",
    "import torch.nn as nn\n",
    "import math\n",
    "class EmbeddingLayer(nn.Module):\n",
    "    def __init__(self, vocab, embedding_dim):\n",
    "        super(EmbeddingLayer, self).__init__()\n",
    "        self.embedding_dim = embedding_dim \n",
    "        self.dropout = nn.Dropout(0.1)\n",
    "\n",
    "\n",
    "        self.inputs_embedding = nn.Embedding(len(vocab),  embedding_dim, padding_idx=0)\n",
    "        self.segment_embedding = nn.Embedding(2,  embedding_dim, padding_idx=0)\n",
    "         \n",
    "    def position_encoder(self, input_ids):\n",
    "        position_code = []\n",
    "        for input_id in input_ids:\n",
    "            self.max_len = len(input_id)\n",
    "            embedding_dim = self.embedding_dim\n",
    "            position = torch.arange(0, self.max_len, dtype=torch.float).unsqueeze(1)\n",
    "            div_term = torch.exp(torch.arange(0, embedding_dim, 2).float() * -(math.log(10000.0) / embedding_dim))\n",
    "            encoding = torch.zeros(self.max_len, embedding_dim)\n",
    "            encoding[:, 0::2] = torch.sin(position * div_term)\n",
    "            encoding[:, 1::2] = torch.cos(position * div_term)\n",
    "            position_code.append(encoding.to('cuda'))\n",
    "        return position_code\n",
    "\n",
    "    def forward(self,input_ids,segment_ids):\n",
    "        input_embedded = self.inputs_embedding(input_ids.to(torch.long) )\n",
    "        segment_embedded = self.segment_embedding(segment_ids.to(torch.long))\n",
    "        position_embedded = self.position_encoder(input_ids)\n",
    "        embedded = torch.stack([inp+seg+pos for inp, seg, pos in zip(input_embedded, segment_embedded, position_embedded)])\n",
    "        return embedded\n",
    "    \n"
   ]
  },
  {
   "cell_type": "code",
   "execution_count": 12,
   "metadata": {},
   "outputs": [
    {
     "name": "stdout",
     "output_type": "stream",
     "text": [
      "Input:\n",
      "tensor([[0, 1, 2, 0, 0],\n",
      "        [1, 2, 1, 0, 0]], device='cuda:0')\n",
      "tensor([[0, 0, 0, 0, 0],\n",
      "        [1, 1, 1, 1, 1]], device='cuda:0')\n",
      "Output:\n",
      "tensor([[[ 0.0000e+00,  1.0000e+00,  0.0000e+00,  1.0000e+00,  0.0000e+00,\n",
      "           1.0000e+00,  0.0000e+00,  1.0000e+00,  0.0000e+00,  1.0000e+00,\n",
      "           0.0000e+00,  1.0000e+00,  0.0000e+00,  1.0000e+00,  0.0000e+00,\n",
      "           1.0000e+00],\n",
      "         [ 1.7155e+00,  2.3864e+00,  5.9157e-01,  1.2613e-01,  1.2678e+00,\n",
      "           1.1725e+00, -4.6030e-01,  1.0104e+00, -1.4344e+00, -4.4529e-01,\n",
      "          -6.5031e-01,  1.4260e-01,  1.9929e+00,  1.2390e+00, -1.0266e+00,\n",
      "           1.3883e+00],\n",
      "         [ 1.4507e+00, -1.1035e+00,  5.5129e-01,  1.0611e+00, -4.2411e-01,\n",
      "           1.8699e+00,  1.3811e+00,  6.1529e-01, -1.0817e+00,  2.0022e-01,\n",
      "           4.4182e-01,  2.0181e+00, -3.5758e-01,  1.4477e+00, -2.2821e-01,\n",
      "          -3.3289e-01],\n",
      "         [ 1.4112e-01, -9.8999e-01,  8.1265e-01,  5.8275e-01,  2.9552e-01,\n",
      "           9.5534e-01,  9.4726e-02,  9.9550e-01,  2.9995e-02,  9.9955e-01,\n",
      "           9.4867e-03,  9.9995e-01,  3.0000e-03,  1.0000e+00,  9.4868e-04,\n",
      "           1.0000e+00],\n",
      "         [-7.5680e-01, -6.5364e-01,  9.5358e-01,  3.0114e-01,  3.8942e-01,\n",
      "           9.2106e-01,  1.2615e-01,  9.9201e-01,  3.9989e-02,  9.9920e-01,\n",
      "           1.2649e-02,  9.9992e-01,  4.0000e-03,  9.9999e-01,  1.2649e-03,\n",
      "           1.0000e+00]],\n",
      "\n",
      "        [[ 2.5501e-01,  2.2550e+00,  3.7529e-01, -1.2228e-01, -6.3340e-01,\n",
      "           6.0845e-01, -1.0465e+00,  1.4653e-01, -2.4429e+00, -4.4597e-01,\n",
      "           1.1367e-01, -5.1845e-01,  3.3778e+00,  1.7988e+00, -2.2044e+00,\n",
      "           5.9542e-01],\n",
      "         [ 7.6385e-01, -7.3818e-01,  3.6586e-01,  9.0690e-01, -2.3243e+00,\n",
      "           1.3158e+00,  7.9494e-01, -2.4758e-01, -2.0902e+00,  1.9964e-01,\n",
      "           1.2058e+00,  1.3570e+00,  1.0273e+00,  2.0075e+00, -1.4060e+00,\n",
      "          -1.1258e+00],\n",
      "         [ 1.1643e+00,  8.3881e-01,  9.6642e-01, -3.1570e-01, -4.3473e-01,\n",
      "           5.8851e-01, -9.8329e-01,  1.4453e-01, -2.4229e+00, -4.4617e-01,\n",
      "           1.1999e-01, -5.1847e-01,  3.3798e+00,  1.7988e+00, -2.2037e+00,\n",
      "           5.9542e-01],\n",
      "         [-4.7787e-01, -1.5812e+00,  9.0736e-01,  2.8476e-01, -1.5059e+00,\n",
      "           3.8633e-01, -4.5985e-01,  1.3113e-01, -9.6853e-01,  9.9882e-01,\n",
      "           7.7663e-01,  3.3890e-01,  1.3889e+00,  1.5598e+00, -1.1765e+00,\n",
      "           2.0711e-01],\n",
      "         [-1.3758e+00, -1.2448e+00,  1.0483e+00,  3.1418e-03, -1.4120e+00,\n",
      "           3.5205e-01, -4.2842e-01,  1.2764e-01, -9.5854e-01,  9.9847e-01,\n",
      "           7.7979e-01,  3.3887e-01,  1.3899e+00,  1.5598e+00, -1.1762e+00,\n",
      "           2.0711e-01]]], device='cuda:0', grad_fn=<StackBackward0>)\n"
     ]
    }
   ],
   "source": [
    "# 示例数据\n",
    "vocab = {'apple': 0, 'banana': 1, 'orange': 2}\n",
    "input_ids = torch.tensor([[0, 1, 2, 0, 0], [1, 2, 1, 0, 0]]).to('cuda')\n",
    "segment_ids = torch.tensor([[0, 0, 0, 0, 0], [1, 1, 1, 1, 1]]).to('cuda')\n",
    "embedding_dim = 16\n",
    "\n",
    "# 创建嵌入层对象\n",
    "embedding_layer = EmbeddingLayer(vocab, embedding_dim).to('cuda')\n",
    "\n",
    "# 调用嵌入层的forward方法\n",
    "output = embedding_layer(input_ids, segment_ids)\n",
    "\n",
    "# 打印输入输出\n",
    "print(\"Input:\")\n",
    "print(input_ids)\n",
    "print(segment_ids)\n",
    "print(\"Output:\")\n",
    "print(output)"
   ]
  },
  {
   "cell_type": "code",
   "execution_count": 13,
   "metadata": {},
   "outputs": [
    {
     "name": "stdout",
     "output_type": "stream",
     "text": [
      "EmbeddingLayer(\n",
      "  (dropout): Dropout(p=0.1, inplace=False)\n",
      "  (inputs_embedding): Embedding(17964, 128, padding_idx=0)\n",
      "  (segment_embedding): Embedding(2, 128, padding_idx=0)\n",
      ")\n"
     ]
    }
   ],
   "source": [
    "# 创建嵌入层对象\n",
    "embedding_layer = EmbeddingLayer(data.vocab, embedding_dim=128)\n",
    "print(embedding_layer)"
   ]
  },
  {
   "cell_type": "code",
   "execution_count": 14,
   "metadata": {},
   "outputs": [],
   "source": [
    "import torch\n",
    "import torch.nn as nn\n",
    "import torch.nn.functional as F\n",
    "\n",
    "class MultiHeadSelfAttention(nn.Module):\n",
    "    def __init__(self, d_model, num_heads):\n",
    "        super(MultiHeadSelfAttention, self).__init__()\n",
    "        self.d_model = d_model\n",
    "        self.num_heads = num_heads\n",
    "        \n",
    "        self.head_dim = d_model // num_heads\n",
    "        \n",
    "        self.q_linear = nn.Linear(d_model, d_model)\n",
    "        self.k_linear = nn.Linear(d_model, d_model)\n",
    "        self.v_linear = nn.Linear(d_model, d_model)\n",
    "        \n",
    "        self.out_linear = nn.Linear(d_model, d_model)\n",
    "        self.attention_weights=0\n",
    "        \n",
    "    def forward(self, query, key, value):\n",
    "        batch_size = query.shape[0]\n",
    "\n",
    "        Q = self.q_linear(query)\n",
    "        K = self.k_linear(key)\n",
    "        V = self.v_linear(value)\n",
    "        \n",
    "        Q = Q.view(batch_size, -1, self.num_heads, self.head_dim).permute(0, 2, 1, 3)\n",
    "        K = K.view(batch_size, -1, self.num_heads, self.head_dim).permute(0, 2, 1, 3)\n",
    "        V = V.view(batch_size, -1, self.num_heads, self.head_dim).permute(0, 2, 1, 3)\n",
    "                \n",
    "        scores = torch.matmul(Q,K.permute(0, 1, 3, 2)) / torch.sqrt(torch.tensor(self.head_dim, dtype=torch.float32))\n",
    "        mask = torch.triu(torch.ones(scores.size(-1), scores.size(-1)), diagonal=1).bool().to(scores.device)\n",
    "        scores.masked_fill_(mask, float('-inf'))#屏蔽未来会出现的词\n",
    "\n",
    "        attention_weights = F.softmax(scores, dim=-1)\n",
    "        \n",
    "        self.attention_weights=attention_weights.detach().cpu().numpy()\n",
    "        \n",
    "        attended_values = torch.matmul(attention_weights, V)\n",
    "        attended_values = attended_values.permute(0, 2, 1, 3).contiguous().view(batch_size, -1, self.d_model)\n",
    "        \n",
    "        output = self.out_linear(attended_values)\n",
    "        \n",
    "        return output\n",
    "\n",
    "class AddAndNorm(nn.Module):\n",
    "    def __init__(self, d_model):\n",
    "        super(AddAndNorm, self).__init__()\n",
    "        self.d_model = d_model\n",
    "        self.layer_norm = nn.LayerNorm(d_model)\n",
    "        \n",
    "    def forward(self, x, residual):\n",
    "        output = x + residual\n",
    "        output = self.layer_norm(output)\n",
    "        return output\n",
    "    \n",
    "class Feedforward(nn.Module):\n",
    "    def __init__(self, d_model, hidden_dim, dropout=0.1):\n",
    "        super(Feedforward, self).__init__()\n",
    "        self.fc1 = nn.Linear(d_model, hidden_dim)\n",
    "        self.relu = nn.ReLU()\n",
    "        self.fc2 = nn.Linear(hidden_dim, d_model)\n",
    "        self.dropout = nn.Dropout(dropout)\n",
    "\n",
    "    def forward(self, x):\n",
    "        x = self.fc1(x)\n",
    "        x = self.relu(x)\n",
    "        x = self.dropout(x)\n",
    "        x = self.fc2(x)\n",
    "        return x\n"
   ]
  },
  {
   "cell_type": "code",
   "execution_count": 15,
   "metadata": {},
   "outputs": [],
   "source": [
    "import torch\n",
    "import torch.nn as nn\n",
    "\n",
    "class TransformerEncoderlayer(nn.Module):\n",
    "    def __init__(self, d_model, num_heads, hidden_dim,dropout=0.1):\n",
    "        super(TransformerEncoderlayer, self).__init__()\n",
    "        self.attention_layers = MultiHeadSelfAttention(d_model, num_heads)\n",
    "\n",
    "        self.ffn_layers = Feedforward(d_model, hidden_dim, dropout)#其中包含有两层线性层和一层Relu\n",
    "\n",
    "        self.norm_layers = AddAndNorm(d_model)\n",
    "        \n",
    "        self.dropout = nn.Dropout(dropout)\n",
    "        \n",
    "    def forward(self,x):\n",
    "\n",
    "        attention_output = self.attention_layers(x,x,x)\n",
    "        attention_output = self.norm_layers(attention_output, attention_output)\n",
    "\n",
    "        ffn_output = self.ffn_layers(attention_output)\n",
    "        output = self.norm_layers(ffn_output, ffn_output)\n",
    "        \n",
    "        output = self.dropout(output)\n",
    "\n",
    "        return output\n",
    "    \n",
    "class TransformerEncoder(nn.Module):\n",
    "    def __init__(self, d_model, n_heads, hidden_dim, num_layers, dropout=0.1):\n",
    "        super(TransformerEncoder, self).__init__()\n",
    "        self.layers = nn.ModuleList(\n",
    "            [TransformerEncoderlayer(d_model, n_heads, hidden_dim, dropout) for _ in range(num_layers)])\n",
    "\n",
    "    def forward(self, x):\n",
    "        for layer in self.layers:\n",
    "            x = layer(x)\n",
    "        return x"
   ]
  },
  {
   "cell_type": "code",
   "execution_count": 16,
   "metadata": {},
   "outputs": [],
   "source": [
    "class SemanticMatchingModel(nn.Module):\n",
    "    def __init__(self, d_model, num_heads, hidden_dim, num_layers,vocab):\n",
    "        super(SemanticMatchingModel, self).__init__()\n",
    "        self.vocab = vocab\n",
    "        self.EmbeddingLayer=EmbeddingLayer(self.vocab,embedding_dim=256)\n",
    "        self.transformer_encoder = TransformerEncoder(d_model, num_heads, hidden_dim, num_layers)\n",
    "        self.classifier = nn.Linear(d_model, 2)\n",
    "\n",
    "    def forward(self,inputs,segment):\n",
    "        embedding_layer=self.EmbeddingLayer.forward(inputs,segment)\n",
    "\n",
    "        encoded = self.transformer_encoder(embedding_layer)\n",
    "        encoded, _ = encoded.max(dim=1)\n",
    "        logits = self.classifier(encoded)\n",
    "        \n",
    "        return logits"
   ]
  },
  {
   "cell_type": "code",
   "execution_count": 17,
   "metadata": {},
   "outputs": [],
   "source": [
    "model = SemanticMatchingModel(d_model=256, num_heads=16, hidden_dim=512, num_layers=4,vocab=data.vocab)"
   ]
  },
  {
   "cell_type": "code",
   "execution_count": 18,
   "metadata": {},
   "outputs": [
    {
     "data": {
      "text/plain": [
       "SemanticMatchingModel(\n",
       "  (EmbeddingLayer): EmbeddingLayer(\n",
       "    (dropout): Dropout(p=0.1, inplace=False)\n",
       "    (inputs_embedding): Embedding(17964, 256, padding_idx=0)\n",
       "    (segment_embedding): Embedding(2, 256, padding_idx=0)\n",
       "  )\n",
       "  (transformer_encoder): TransformerEncoder(\n",
       "    (layers): ModuleList(\n",
       "      (0-3): 4 x TransformerEncoderlayer(\n",
       "        (attention_layers): MultiHeadSelfAttention(\n",
       "          (q_linear): Linear(in_features=256, out_features=256, bias=True)\n",
       "          (k_linear): Linear(in_features=256, out_features=256, bias=True)\n",
       "          (v_linear): Linear(in_features=256, out_features=256, bias=True)\n",
       "          (out_linear): Linear(in_features=256, out_features=256, bias=True)\n",
       "        )\n",
       "        (ffn_layers): Feedforward(\n",
       "          (fc1): Linear(in_features=256, out_features=512, bias=True)\n",
       "          (relu): ReLU()\n",
       "          (fc2): Linear(in_features=512, out_features=256, bias=True)\n",
       "          (dropout): Dropout(p=0.1, inplace=False)\n",
       "        )\n",
       "        (norm_layers): AddAndNorm(\n",
       "          (layer_norm): LayerNorm((256,), eps=1e-05, elementwise_affine=True)\n",
       "        )\n",
       "        (dropout): Dropout(p=0.1, inplace=False)\n",
       "      )\n",
       "    )\n",
       "  )\n",
       "  (classifier): Linear(in_features=256, out_features=2, bias=True)\n",
       ")"
      ]
     },
     "execution_count": 18,
     "metadata": {},
     "output_type": "execute_result"
    }
   ],
   "source": [
    "model.to('cuda')"
   ]
  },
  {
   "cell_type": "code",
   "execution_count": 19,
   "metadata": {},
   "outputs": [],
   "source": [
    "import torch\n",
    "import torch.nn as nn\n",
    "import torch.optim as optim\n",
    "from tqdm import tqdm\n",
    "from datetime import datetime\n",
    "\n",
    "from tensorboardX import SummaryWriter\n",
    "\n",
    "# 获取当前时间\n",
    "now = datetime.now().strftime(\"%Y%m%d-%H%M%S\")\n",
    "\n",
    "# 创建SummaryWriter对象，指定保存日志的路径，包含当前时间\n",
    "\n",
    "log_dir = f\"./logs/{now}\"\n",
    "writer = SummaryWriter(log_dir=log_dir)\n",
    "# 使用DataLoader加载数据\n",
    "batch_size = 128\n",
    "train_dataloader = DataLoader(data.dataset_train_oversampled, batch_size=batch_size,shuffle=True,collate_fn=data.collate_fn)\n",
    "dev_dataloader = DataLoader(data.dataset_dev, batch_size=batch_size, shuffle=True,collate_fn=data.collate_fn)\n"
   ]
  },
  {
   "cell_type": "code",
   "execution_count": 20,
   "metadata": {},
   "outputs": [],
   "source": [
    "# 定义损失函数和优化器\n",
    "criterion = nn.CrossEntropyLoss()\n",
    "optimizer = optim.Adam(model.parameters(), lr=0.0001)\n",
    "\n",
    "# 训练模型\n",
    "num_epochs = 50"
   ]
  },
  {
   "cell_type": "code",
   "execution_count": 21,
   "metadata": {},
   "outputs": [
    {
     "name": "stderr",
     "output_type": "stream",
     "text": [
      "Epoch 1/50 - Training:   0%|          | 0/186 [00:00<?, ?batch/s]"
     ]
    },
    {
     "name": "stderr",
     "output_type": "stream",
     "text": [
      "Epoch 1/50 - Training:  56%|█████▋    | 105/186 [00:27<00:21,  3.85batch/s, accuracy=0.495, loss=0.692]\n"
     ]
    },
    {
     "ename": "KeyboardInterrupt",
     "evalue": "",
     "output_type": "error",
     "traceback": [
      "\u001b[1;31m---------------------------------------------------------------------------\u001b[0m",
      "\u001b[1;31mKeyboardInterrupt\u001b[0m                         Traceback (most recent call last)",
      "Cell \u001b[1;32mIn [21], line 16\u001b[0m\n\u001b[0;32m     14\u001b[0m label \u001b[38;5;241m=\u001b[39m label\u001b[38;5;241m.\u001b[39mto(\u001b[38;5;124m'\u001b[39m\u001b[38;5;124mcuda\u001b[39m\u001b[38;5;124m'\u001b[39m)\n\u001b[0;32m     15\u001b[0m optimizer\u001b[38;5;241m.\u001b[39mzero_grad()\n\u001b[1;32m---> 16\u001b[0m output \u001b[38;5;241m=\u001b[39m model(input_id, segment_id)\n\u001b[0;32m     17\u001b[0m loss \u001b[38;5;241m=\u001b[39m criterion(output, label)\n\u001b[0;32m     18\u001b[0m loss\u001b[38;5;241m.\u001b[39mbackward()\n",
      "File \u001b[1;32mf:\\Anaconda\\envs\\program\\lib\\site-packages\\torch\\nn\\modules\\module.py:1518\u001b[0m, in \u001b[0;36mModule._wrapped_call_impl\u001b[1;34m(self, *args, **kwargs)\u001b[0m\n\u001b[0;32m   1516\u001b[0m     \u001b[38;5;28;01mreturn\u001b[39;00m \u001b[38;5;28mself\u001b[39m\u001b[38;5;241m.\u001b[39m_compiled_call_impl(\u001b[38;5;241m*\u001b[39margs, \u001b[38;5;241m*\u001b[39m\u001b[38;5;241m*\u001b[39mkwargs)  \u001b[38;5;66;03m# type: ignore[misc]\u001b[39;00m\n\u001b[0;32m   1517\u001b[0m \u001b[38;5;28;01melse\u001b[39;00m:\n\u001b[1;32m-> 1518\u001b[0m     \u001b[38;5;28;01mreturn\u001b[39;00m \u001b[38;5;28mself\u001b[39m\u001b[38;5;241m.\u001b[39m_call_impl(\u001b[38;5;241m*\u001b[39margs, \u001b[38;5;241m*\u001b[39m\u001b[38;5;241m*\u001b[39mkwargs)\n",
      "File \u001b[1;32mf:\\Anaconda\\envs\\program\\lib\\site-packages\\torch\\nn\\modules\\module.py:1527\u001b[0m, in \u001b[0;36mModule._call_impl\u001b[1;34m(self, *args, **kwargs)\u001b[0m\n\u001b[0;32m   1522\u001b[0m \u001b[38;5;66;03m# If we don't have any hooks, we want to skip the rest of the logic in\u001b[39;00m\n\u001b[0;32m   1523\u001b[0m \u001b[38;5;66;03m# this function, and just call forward.\u001b[39;00m\n\u001b[0;32m   1524\u001b[0m \u001b[38;5;28;01mif\u001b[39;00m \u001b[38;5;129;01mnot\u001b[39;00m (\u001b[38;5;28mself\u001b[39m\u001b[38;5;241m.\u001b[39m_backward_hooks \u001b[38;5;129;01mor\u001b[39;00m \u001b[38;5;28mself\u001b[39m\u001b[38;5;241m.\u001b[39m_backward_pre_hooks \u001b[38;5;129;01mor\u001b[39;00m \u001b[38;5;28mself\u001b[39m\u001b[38;5;241m.\u001b[39m_forward_hooks \u001b[38;5;129;01mor\u001b[39;00m \u001b[38;5;28mself\u001b[39m\u001b[38;5;241m.\u001b[39m_forward_pre_hooks\n\u001b[0;32m   1525\u001b[0m         \u001b[38;5;129;01mor\u001b[39;00m _global_backward_pre_hooks \u001b[38;5;129;01mor\u001b[39;00m _global_backward_hooks\n\u001b[0;32m   1526\u001b[0m         \u001b[38;5;129;01mor\u001b[39;00m _global_forward_hooks \u001b[38;5;129;01mor\u001b[39;00m _global_forward_pre_hooks):\n\u001b[1;32m-> 1527\u001b[0m     \u001b[38;5;28;01mreturn\u001b[39;00m forward_call(\u001b[38;5;241m*\u001b[39margs, \u001b[38;5;241m*\u001b[39m\u001b[38;5;241m*\u001b[39mkwargs)\n\u001b[0;32m   1529\u001b[0m \u001b[38;5;28;01mtry\u001b[39;00m:\n\u001b[0;32m   1530\u001b[0m     result \u001b[38;5;241m=\u001b[39m \u001b[38;5;28;01mNone\u001b[39;00m\n",
      "Cell \u001b[1;32mIn [16], line 12\u001b[0m, in \u001b[0;36mSemanticMatchingModel.forward\u001b[1;34m(self, inputs, segment)\u001b[0m\n\u001b[0;32m      9\u001b[0m \u001b[38;5;28;01mdef\u001b[39;00m \u001b[38;5;21mforward\u001b[39m(\u001b[38;5;28mself\u001b[39m,inputs,segment):\n\u001b[0;32m     10\u001b[0m     embedding_layer\u001b[38;5;241m=\u001b[39m\u001b[38;5;28mself\u001b[39m\u001b[38;5;241m.\u001b[39mEmbeddingLayer\u001b[38;5;241m.\u001b[39mforward(inputs,segment)\n\u001b[1;32m---> 12\u001b[0m     encoded \u001b[38;5;241m=\u001b[39m \u001b[38;5;28;43mself\u001b[39;49m\u001b[38;5;241;43m.\u001b[39;49m\u001b[43mtransformer_encoder\u001b[49m\u001b[43m(\u001b[49m\u001b[43membedding_layer\u001b[49m\u001b[43m)\u001b[49m\n\u001b[0;32m     13\u001b[0m     encoded, _ \u001b[38;5;241m=\u001b[39m encoded\u001b[38;5;241m.\u001b[39mmax(dim\u001b[38;5;241m=\u001b[39m\u001b[38;5;241m1\u001b[39m)\n\u001b[0;32m     14\u001b[0m     logits \u001b[38;5;241m=\u001b[39m \u001b[38;5;28mself\u001b[39m\u001b[38;5;241m.\u001b[39mclassifier(encoded)\n",
      "File \u001b[1;32mf:\\Anaconda\\envs\\program\\lib\\site-packages\\torch\\nn\\modules\\module.py:1518\u001b[0m, in \u001b[0;36mModule._wrapped_call_impl\u001b[1;34m(self, *args, **kwargs)\u001b[0m\n\u001b[0;32m   1516\u001b[0m     \u001b[38;5;28;01mreturn\u001b[39;00m \u001b[38;5;28mself\u001b[39m\u001b[38;5;241m.\u001b[39m_compiled_call_impl(\u001b[38;5;241m*\u001b[39margs, \u001b[38;5;241m*\u001b[39m\u001b[38;5;241m*\u001b[39mkwargs)  \u001b[38;5;66;03m# type: ignore[misc]\u001b[39;00m\n\u001b[0;32m   1517\u001b[0m \u001b[38;5;28;01melse\u001b[39;00m:\n\u001b[1;32m-> 1518\u001b[0m     \u001b[38;5;28;01mreturn\u001b[39;00m \u001b[38;5;28mself\u001b[39m\u001b[38;5;241m.\u001b[39m_call_impl(\u001b[38;5;241m*\u001b[39margs, \u001b[38;5;241m*\u001b[39m\u001b[38;5;241m*\u001b[39mkwargs)\n",
      "File \u001b[1;32mf:\\Anaconda\\envs\\program\\lib\\site-packages\\torch\\nn\\modules\\module.py:1527\u001b[0m, in \u001b[0;36mModule._call_impl\u001b[1;34m(self, *args, **kwargs)\u001b[0m\n\u001b[0;32m   1522\u001b[0m \u001b[38;5;66;03m# If we don't have any hooks, we want to skip the rest of the logic in\u001b[39;00m\n\u001b[0;32m   1523\u001b[0m \u001b[38;5;66;03m# this function, and just call forward.\u001b[39;00m\n\u001b[0;32m   1524\u001b[0m \u001b[38;5;28;01mif\u001b[39;00m \u001b[38;5;129;01mnot\u001b[39;00m (\u001b[38;5;28mself\u001b[39m\u001b[38;5;241m.\u001b[39m_backward_hooks \u001b[38;5;129;01mor\u001b[39;00m \u001b[38;5;28mself\u001b[39m\u001b[38;5;241m.\u001b[39m_backward_pre_hooks \u001b[38;5;129;01mor\u001b[39;00m \u001b[38;5;28mself\u001b[39m\u001b[38;5;241m.\u001b[39m_forward_hooks \u001b[38;5;129;01mor\u001b[39;00m \u001b[38;5;28mself\u001b[39m\u001b[38;5;241m.\u001b[39m_forward_pre_hooks\n\u001b[0;32m   1525\u001b[0m         \u001b[38;5;129;01mor\u001b[39;00m _global_backward_pre_hooks \u001b[38;5;129;01mor\u001b[39;00m _global_backward_hooks\n\u001b[0;32m   1526\u001b[0m         \u001b[38;5;129;01mor\u001b[39;00m _global_forward_hooks \u001b[38;5;129;01mor\u001b[39;00m _global_forward_pre_hooks):\n\u001b[1;32m-> 1527\u001b[0m     \u001b[38;5;28;01mreturn\u001b[39;00m forward_call(\u001b[38;5;241m*\u001b[39margs, \u001b[38;5;241m*\u001b[39m\u001b[38;5;241m*\u001b[39mkwargs)\n\u001b[0;32m   1529\u001b[0m \u001b[38;5;28;01mtry\u001b[39;00m:\n\u001b[0;32m   1530\u001b[0m     result \u001b[38;5;241m=\u001b[39m \u001b[38;5;28;01mNone\u001b[39;00m\n",
      "Cell \u001b[1;32mIn [15], line 35\u001b[0m, in \u001b[0;36mTransformerEncoder.forward\u001b[1;34m(self, x)\u001b[0m\n\u001b[0;32m     33\u001b[0m \u001b[38;5;28;01mdef\u001b[39;00m \u001b[38;5;21mforward\u001b[39m(\u001b[38;5;28mself\u001b[39m, x):\n\u001b[0;32m     34\u001b[0m     \u001b[38;5;28;01mfor\u001b[39;00m layer \u001b[38;5;129;01min\u001b[39;00m \u001b[38;5;28mself\u001b[39m\u001b[38;5;241m.\u001b[39mlayers:\n\u001b[1;32m---> 35\u001b[0m         x \u001b[38;5;241m=\u001b[39m \u001b[43mlayer\u001b[49m\u001b[43m(\u001b[49m\u001b[43mx\u001b[49m\u001b[43m)\u001b[49m\n\u001b[0;32m     36\u001b[0m     \u001b[38;5;28;01mreturn\u001b[39;00m x\n",
      "File \u001b[1;32mf:\\Anaconda\\envs\\program\\lib\\site-packages\\torch\\nn\\modules\\module.py:1518\u001b[0m, in \u001b[0;36mModule._wrapped_call_impl\u001b[1;34m(self, *args, **kwargs)\u001b[0m\n\u001b[0;32m   1516\u001b[0m     \u001b[38;5;28;01mreturn\u001b[39;00m \u001b[38;5;28mself\u001b[39m\u001b[38;5;241m.\u001b[39m_compiled_call_impl(\u001b[38;5;241m*\u001b[39margs, \u001b[38;5;241m*\u001b[39m\u001b[38;5;241m*\u001b[39mkwargs)  \u001b[38;5;66;03m# type: ignore[misc]\u001b[39;00m\n\u001b[0;32m   1517\u001b[0m \u001b[38;5;28;01melse\u001b[39;00m:\n\u001b[1;32m-> 1518\u001b[0m     \u001b[38;5;28;01mreturn\u001b[39;00m \u001b[38;5;28mself\u001b[39m\u001b[38;5;241m.\u001b[39m_call_impl(\u001b[38;5;241m*\u001b[39margs, \u001b[38;5;241m*\u001b[39m\u001b[38;5;241m*\u001b[39mkwargs)\n",
      "File \u001b[1;32mf:\\Anaconda\\envs\\program\\lib\\site-packages\\torch\\nn\\modules\\module.py:1527\u001b[0m, in \u001b[0;36mModule._call_impl\u001b[1;34m(self, *args, **kwargs)\u001b[0m\n\u001b[0;32m   1522\u001b[0m \u001b[38;5;66;03m# If we don't have any hooks, we want to skip the rest of the logic in\u001b[39;00m\n\u001b[0;32m   1523\u001b[0m \u001b[38;5;66;03m# this function, and just call forward.\u001b[39;00m\n\u001b[0;32m   1524\u001b[0m \u001b[38;5;28;01mif\u001b[39;00m \u001b[38;5;129;01mnot\u001b[39;00m (\u001b[38;5;28mself\u001b[39m\u001b[38;5;241m.\u001b[39m_backward_hooks \u001b[38;5;129;01mor\u001b[39;00m \u001b[38;5;28mself\u001b[39m\u001b[38;5;241m.\u001b[39m_backward_pre_hooks \u001b[38;5;129;01mor\u001b[39;00m \u001b[38;5;28mself\u001b[39m\u001b[38;5;241m.\u001b[39m_forward_hooks \u001b[38;5;129;01mor\u001b[39;00m \u001b[38;5;28mself\u001b[39m\u001b[38;5;241m.\u001b[39m_forward_pre_hooks\n\u001b[0;32m   1525\u001b[0m         \u001b[38;5;129;01mor\u001b[39;00m _global_backward_pre_hooks \u001b[38;5;129;01mor\u001b[39;00m _global_backward_hooks\n\u001b[0;32m   1526\u001b[0m         \u001b[38;5;129;01mor\u001b[39;00m _global_forward_hooks \u001b[38;5;129;01mor\u001b[39;00m _global_forward_pre_hooks):\n\u001b[1;32m-> 1527\u001b[0m     \u001b[38;5;28;01mreturn\u001b[39;00m forward_call(\u001b[38;5;241m*\u001b[39margs, \u001b[38;5;241m*\u001b[39m\u001b[38;5;241m*\u001b[39mkwargs)\n\u001b[0;32m   1529\u001b[0m \u001b[38;5;28;01mtry\u001b[39;00m:\n\u001b[0;32m   1530\u001b[0m     result \u001b[38;5;241m=\u001b[39m \u001b[38;5;28;01mNone\u001b[39;00m\n",
      "Cell \u001b[1;32mIn [15], line 17\u001b[0m, in \u001b[0;36mTransformerEncoderlayer.forward\u001b[1;34m(self, x)\u001b[0m\n\u001b[0;32m     15\u001b[0m \u001b[38;5;28;01mdef\u001b[39;00m \u001b[38;5;21mforward\u001b[39m(\u001b[38;5;28mself\u001b[39m,x):\n\u001b[1;32m---> 17\u001b[0m     attention_output \u001b[38;5;241m=\u001b[39m \u001b[38;5;28;43mself\u001b[39;49m\u001b[38;5;241;43m.\u001b[39;49m\u001b[43mattention_layers\u001b[49m\u001b[43m(\u001b[49m\u001b[43mx\u001b[49m\u001b[43m,\u001b[49m\u001b[43mx\u001b[49m\u001b[43m,\u001b[49m\u001b[43mx\u001b[49m\u001b[43m)\u001b[49m\n\u001b[0;32m     18\u001b[0m     attention_output \u001b[38;5;241m=\u001b[39m \u001b[38;5;28mself\u001b[39m\u001b[38;5;241m.\u001b[39mnorm_layers(attention_output, attention_output)\n\u001b[0;32m     20\u001b[0m     ffn_output \u001b[38;5;241m=\u001b[39m \u001b[38;5;28mself\u001b[39m\u001b[38;5;241m.\u001b[39mffn_layers(attention_output)\n",
      "File \u001b[1;32mf:\\Anaconda\\envs\\program\\lib\\site-packages\\torch\\nn\\modules\\module.py:1518\u001b[0m, in \u001b[0;36mModule._wrapped_call_impl\u001b[1;34m(self, *args, **kwargs)\u001b[0m\n\u001b[0;32m   1516\u001b[0m     \u001b[38;5;28;01mreturn\u001b[39;00m \u001b[38;5;28mself\u001b[39m\u001b[38;5;241m.\u001b[39m_compiled_call_impl(\u001b[38;5;241m*\u001b[39margs, \u001b[38;5;241m*\u001b[39m\u001b[38;5;241m*\u001b[39mkwargs)  \u001b[38;5;66;03m# type: ignore[misc]\u001b[39;00m\n\u001b[0;32m   1517\u001b[0m \u001b[38;5;28;01melse\u001b[39;00m:\n\u001b[1;32m-> 1518\u001b[0m     \u001b[38;5;28;01mreturn\u001b[39;00m \u001b[38;5;28mself\u001b[39m\u001b[38;5;241m.\u001b[39m_call_impl(\u001b[38;5;241m*\u001b[39margs, \u001b[38;5;241m*\u001b[39m\u001b[38;5;241m*\u001b[39mkwargs)\n",
      "File \u001b[1;32mf:\\Anaconda\\envs\\program\\lib\\site-packages\\torch\\nn\\modules\\module.py:1527\u001b[0m, in \u001b[0;36mModule._call_impl\u001b[1;34m(self, *args, **kwargs)\u001b[0m\n\u001b[0;32m   1522\u001b[0m \u001b[38;5;66;03m# If we don't have any hooks, we want to skip the rest of the logic in\u001b[39;00m\n\u001b[0;32m   1523\u001b[0m \u001b[38;5;66;03m# this function, and just call forward.\u001b[39;00m\n\u001b[0;32m   1524\u001b[0m \u001b[38;5;28;01mif\u001b[39;00m \u001b[38;5;129;01mnot\u001b[39;00m (\u001b[38;5;28mself\u001b[39m\u001b[38;5;241m.\u001b[39m_backward_hooks \u001b[38;5;129;01mor\u001b[39;00m \u001b[38;5;28mself\u001b[39m\u001b[38;5;241m.\u001b[39m_backward_pre_hooks \u001b[38;5;129;01mor\u001b[39;00m \u001b[38;5;28mself\u001b[39m\u001b[38;5;241m.\u001b[39m_forward_hooks \u001b[38;5;129;01mor\u001b[39;00m \u001b[38;5;28mself\u001b[39m\u001b[38;5;241m.\u001b[39m_forward_pre_hooks\n\u001b[0;32m   1525\u001b[0m         \u001b[38;5;129;01mor\u001b[39;00m _global_backward_pre_hooks \u001b[38;5;129;01mor\u001b[39;00m _global_backward_hooks\n\u001b[0;32m   1526\u001b[0m         \u001b[38;5;129;01mor\u001b[39;00m _global_forward_hooks \u001b[38;5;129;01mor\u001b[39;00m _global_forward_pre_hooks):\n\u001b[1;32m-> 1527\u001b[0m     \u001b[38;5;28;01mreturn\u001b[39;00m forward_call(\u001b[38;5;241m*\u001b[39margs, \u001b[38;5;241m*\u001b[39m\u001b[38;5;241m*\u001b[39mkwargs)\n\u001b[0;32m   1529\u001b[0m \u001b[38;5;28;01mtry\u001b[39;00m:\n\u001b[0;32m   1530\u001b[0m     result \u001b[38;5;241m=\u001b[39m \u001b[38;5;28;01mNone\u001b[39;00m\n",
      "Cell \u001b[1;32mIn [14], line 37\u001b[0m, in \u001b[0;36mMultiHeadSelfAttention.forward\u001b[1;34m(self, query, key, value)\u001b[0m\n\u001b[0;32m     33\u001b[0m scores\u001b[38;5;241m.\u001b[39mmasked_fill_(mask, \u001b[38;5;28mfloat\u001b[39m(\u001b[38;5;124m'\u001b[39m\u001b[38;5;124m-inf\u001b[39m\u001b[38;5;124m'\u001b[39m))\u001b[38;5;66;03m#屏蔽未来会出现的词\u001b[39;00m\n\u001b[0;32m     35\u001b[0m attention_weights \u001b[38;5;241m=\u001b[39m F\u001b[38;5;241m.\u001b[39msoftmax(scores, dim\u001b[38;5;241m=\u001b[39m\u001b[38;5;241m-\u001b[39m\u001b[38;5;241m1\u001b[39m)\n\u001b[1;32m---> 37\u001b[0m \u001b[38;5;28mself\u001b[39m\u001b[38;5;241m.\u001b[39mattention_weights\u001b[38;5;241m=\u001b[39m\u001b[43mattention_weights\u001b[49m\u001b[38;5;241;43m.\u001b[39;49m\u001b[43mdetach\u001b[49m\u001b[43m(\u001b[49m\u001b[43m)\u001b[49m\u001b[38;5;241;43m.\u001b[39;49m\u001b[43mcpu\u001b[49m\u001b[43m(\u001b[49m\u001b[43m)\u001b[49m\u001b[38;5;241m.\u001b[39mnumpy()\n\u001b[0;32m     39\u001b[0m attended_values \u001b[38;5;241m=\u001b[39m torch\u001b[38;5;241m.\u001b[39mmatmul(attention_weights, V)\n\u001b[0;32m     40\u001b[0m attended_values \u001b[38;5;241m=\u001b[39m attended_values\u001b[38;5;241m.\u001b[39mpermute(\u001b[38;5;241m0\u001b[39m, \u001b[38;5;241m2\u001b[39m, \u001b[38;5;241m1\u001b[39m, \u001b[38;5;241m3\u001b[39m)\u001b[38;5;241m.\u001b[39mcontiguous()\u001b[38;5;241m.\u001b[39mview(batch_size, \u001b[38;5;241m-\u001b[39m\u001b[38;5;241m1\u001b[39m, \u001b[38;5;28mself\u001b[39m\u001b[38;5;241m.\u001b[39md_model)\n",
      "\u001b[1;31mKeyboardInterrupt\u001b[0m: "
     ]
    }
   ],
   "source": [
    "import copy\n",
    "best_accuracy = 0.0\n",
    "for epoch in range(num_epochs):\n",
    "    model.train()\n",
    "    total_loss = 0.0\n",
    "    correct_count = 0\n",
    "    total_count = 0\n",
    "\n",
    "    with tqdm(train_dataloader, desc=f\"Epoch {epoch + 1}/{num_epochs} - Training\", unit=\"batch\") as train_bar:\n",
    "        for item in train_bar:\n",
    "            input_id, segment_id, label = item\n",
    "            input_id = input_id.to('cuda')\n",
    "            segment_id = segment_id.to('cuda')\n",
    "            label = label.to('cuda')\n",
    "            optimizer.zero_grad()\n",
    "            output = model(input_id, segment_id)\n",
    "            loss = criterion(output, label)\n",
    "            loss.backward()\n",
    "            optimizer.step()\n",
    "\n",
    "            total_loss += loss.item()\n",
    "\n",
    "            _, predicted = torch.max(output, 1)\n",
    "            correct_count += (predicted == label).sum().item()\n",
    "            total_count += label.size(0)\n",
    "\n",
    "            train_bar.set_postfix(loss=loss.item(), accuracy=correct_count / total_count)\n",
    "\n",
    "    avg_loss = total_loss / len(train_dataloader)\n",
    "    accuracy = correct_count / total_count\n",
    "\n",
    "        # 记录loss和accuracy\n",
    "    writer.add_scalar(\"Train/Loss\", avg_loss, epoch)\n",
    "    writer.add_scalar(\"Train/Accuracy\", accuracy, epoch)\n",
    "\n",
    "    print(f\"Epoch {epoch + 1}/{num_epochs} - Training Loss: {avg_loss:.4f}, Accuracy: {accuracy:.4f}\")\n",
    "\n",
    "    model.eval()\n",
    "    total_loss = 0.0\n",
    "    correct_count = 0\n",
    "    total_count = 0\n",
    "\n",
    "    with torch.no_grad():\n",
    "        with tqdm(dev_dataloader, desc=f\"Epoch {epoch + 1}/{num_epochs} - Validation\", unit=\"batch\") as dev_bar:\n",
    "            for item in dev_bar:\n",
    "                input_id, segment_id, label = item\n",
    "                input_id = input_id.to('cuda')\n",
    "                segment_id = segment_id.to('cuda')\n",
    "                label = label.to('cuda')\n",
    "                output = model(input_id, segment_id)\n",
    "                loss = criterion(output, label)\n",
    "                total_loss += loss.item()\n",
    "\n",
    "                _, predicted = torch.max(output, 1)\n",
    "                correct_count += (predicted == label).sum().item()\n",
    "                total_count += label.size(0)\n",
    "\n",
    "                dev_bar.set_postfix(loss=loss.item(), accuracy=correct_count / total_count)\n",
    "\n",
    "    avg_loss = total_loss / len(dev_dataloader)\n",
    "    accuracy = correct_count / total_count\n",
    "    if accuracy > best_accuracy:\n",
    "        if epoch < 5:#前5轮不计入best_model的数据，loss和正确率正常记录\n",
    "            continue\n",
    "        else:\n",
    "            best_accuracy = accuracy\n",
    "            model_best = copy.deepcopy(model)\n",
    "            model_best = model_best.to('cpu')\n",
    "            model.to('cuda')\n",
    "    # 记录loss和accuracy\n",
    "    writer.add_scalar(\"val/Loss\", avg_loss, epoch)\n",
    "    writer.add_scalar(\"val/Accuracy\", accuracy, epoch)\n",
    "    print(f\"Epoch {epoch + 1}/{num_epochs} - Validation Loss: {avg_loss:.4f}, Accuracy: {accuracy:.4f}\")\n",
    "# 关闭SummaryWriter\n",
    "# 打印最高正确率\n",
    "print(f\"Best Validation Accuracy: {best_accuracy:.4f}\")\n",
    "torch.save(model_best,'./model/best_model_layer4_pre.pth')\n",
    "writer.close()"
   ]
  },
  {
   "cell_type": "code",
   "execution_count": null,
   "metadata": {},
   "outputs": [],
   "source": [
    "torch.save(model,'./model/SemanticMatchingModel1_12_9_layer4_SGD.pth')"
   ]
  },
  {
   "cell_type": "code",
   "execution_count": 31,
   "metadata": {},
   "outputs": [],
   "source": [
    "model_best=torch.load('./model/best_model_layer2_att.pth').to('cuda')"
   ]
  },
  {
   "cell_type": "code",
   "execution_count": 32,
   "metadata": {},
   "outputs": [
    {
     "name": "stdout",
     "output_type": "stream",
     "text": [
      " Validation Loss: 0.8763, Accuracy: 0.5959\n"
     ]
    }
   ],
   "source": [
    "\n",
    "dev_dataloader = DataLoader(data.dataset_dev, batch_size=128, shuffle=True,collate_fn=data.collate_fn)\n",
    "criterion=nn.CrossEntropyLoss()\n",
    "model_best.eval()\n",
    "total_loss = 0.0\n",
    "correct_count = 0\n",
    "total_count = 0\n",
    "\n",
    "with torch.no_grad():\n",
    "        for item in dev_dataloader:\n",
    "            input_id, segment_id, label = item\n",
    "            input_id = input_id.to('cuda')\n",
    "            segment_id = segment_id.to('cuda')\n",
    "            label = label.to('cuda')\n",
    "            output = model_best(input_id, segment_id)\n",
    "            loss = criterion(output, label)\n",
    "            total_loss += loss.item()\n",
    "\n",
    "            _, predicted = torch.max(output, 1)\n",
    "            correct_count += (predicted == label).sum().item()\n",
    "            total_count += label.size(0)\n",
    "\n",
    "\n",
    "avg_loss = total_loss / len(dev_dataloader)\n",
    "accuracy = correct_count / total_count\n",
    "print(f\" Validation Loss: {avg_loss:.4f}, Accuracy: {accuracy:.4f}\")"
   ]
  },
  {
   "cell_type": "code",
   "execution_count": null,
   "metadata": {},
   "outputs": [
    {
     "name": "stdout",
     "output_type": "stream",
     "text": [
      "Accuracy: 0.5800\n"
     ]
    }
   ],
   "source": [
    "import random\n",
    "\n",
    "# 随机选择50条数据进行测试\n",
    "test_samples = random.sample(dev_dataloader.dataset, 50)\n",
    "\n",
    "# 计数器，记录正确的匹配数量\n",
    "correct_count = 0\n",
    "\n",
    "# 设置模型为评估模式\n",
    "model.eval()\n",
    "\n",
    "# 关闭梯度计算\n",
    "with torch.no_grad():\n",
    "    # 遍历测试样本进行测试\n",
    "    for sample in test_samples:\n",
    "        input_id, segment_id, label = sample\n",
    "\n",
    "        # 将输入数据转为Tensor，并移动到CUDA设备上\n",
    "        input_id = input_id.unsqueeze(0).to('cuda')\n",
    "        segment_id = segment_id.unsqueeze(0).to('cuda')\n",
    "        label = label.to('cuda')\n",
    "\n",
    "        # 使用训练好的模型进行预测\n",
    "        output = model_best(input_id, segment_id)\n",
    "\n",
    "        # 获取预测结果\n",
    "        _, predicted = torch.max(output, 1)\n",
    "\n",
    "        # 判断预测结果是否与标签一致\n",
    "        if predicted.item() == label.item():\n",
    "            correct_count += 1\n",
    "\n",
    "# 计算准确率\n",
    "accuracy = correct_count / len(test_samples)\n",
    "print(f\"Accuracy: {accuracy:.4f}\")"
   ]
  },
  {
   "cell_type": "code",
   "execution_count": null,
   "metadata": {},
   "outputs": [
    {
     "name": "stdout",
     "output_type": "stream",
     "text": [
      "Train mini batch:\n",
      "Input IDs: tensor([   1, 3802, 2975, 1051, 4947,   43,  852,  201,  699,   48,   22,  806,\n",
      "          33,  254,  399,   49,   89, 1114,    2, 1051, 4947,    9,  254,  399,\n",
      "          45,  195,  201,   89, 1114,    2])\n",
      "Segment IDs: tensor([0, 0, 0, 0, 0, 0, 0, 0, 0, 0, 0, 0, 0, 0, 0, 0, 0, 0, 0, 1, 1, 1, 1, 1,\n",
      "        1, 1, 1, 1, 1, 1])\n",
      "Labels: tensor(0)\n",
      "Input Text: ['[CLS]', '蚂', '蚁', '借', '呗', '等', '额', '还', '款', '可', '以', '换', '成', '先', '息', '后', '本', '吗', '[SEP]', '借', '呗', '有', '先', '息', '到', '期', '还', '本', '吗', '[SEP]']\n",
      "Label: 0\n"
     ]
    }
   ],
   "source": [
    "data_path = './AFQMC数据集/'\n",
    "vocab_path = './vocab.txt'\n",
    "\n",
    "\n",
    "view_dataloader = DataLoader(data.dataset_train_oversampled, batch_size=1,shuffle=False,collate_fn=data.collate_fn)\n",
    "# 将train_dataloader转换为迭代器\n",
    "train_iterator = iter(train_dataloader)\n",
    "\n",
    "# 获取下一个批次\n",
    "batch = next(train_iterator)\n",
    "\n",
    "# 提取批次中的第一个样本\n",
    "sample = batch\n",
    "input_id, segment_id, label = sample\n",
    "\n",
    "print(\"Train mini batch:\")\n",
    "print(\"Input IDs:\", train_input_ids)\n",
    "print(\"Segment IDs:\", train_segment_ids)\n",
    "print(\"Labels:\", train_labels)\n",
    "\n",
    "# 将input_ids, segment_ids和labels转换为可读的句子和标签\n",
    "input_ids_view = train_input_ids.tolist() # 将张量转换为Python列表\n",
    "\n",
    "segment_ids_view = train_segment_ids.tolist()  # 将张量转换为Python列表\n",
    "\n",
    "labels_view = train_labels.tolist()  # 将张量转换为Python列表\n",
    "\n",
    "word_dict_inv = {v: k for k, v in data.vocab.items()}\n",
    "input_text = [word_dict_inv[id] for id in input_ids_view if id != 0]\n",
    "print(\"Input Text:\", input_text)\n",
    "print(\"Label:\", labels_view)"
   ]
  },
  {
   "cell_type": "markdown",
   "metadata": {},
   "source": [
    "已经训练好的模型的自注意力的情况"
   ]
  },
  {
   "cell_type": "code",
   "execution_count": null,
   "metadata": {},
   "outputs": [
    {
     "name": "stdout",
     "output_type": "stream",
     "text": [
      "(1, 16, 25, 25)\n"
     ]
    },
    {
     "data": {
      "image/png": "[encoded data removed]",
      "text/plain": [
       "<Figure size 1000x800 with 2 Axes>"
      ]
     },
     "metadata": {},
     "output_type": "display_data"
    }
   ],
   "source": [
    "import torch\n",
    "import matplotlib.pyplot as plt\n",
    "import seaborn as sns\n",
    "\n",
    "input_id=input_id.to('cuda')\n",
    "segment_id=segment_id.to('cuda')\n",
    "with torch.no_grad(): \n",
    "    TransformerEncoderlayer=model_best.transformer_encoder.layers[0]\n",
    "\n",
    "    attention_weights=TransformerEncoderlayer.attention_layers.attention_weights\n",
    "    print(attention_weights.shape)\n",
    "    attention_weights = attention_weights.squeeze(0)  # 去除批次维度\n",
    "    attention_weights = attention_weights.reshape(16, 25, 25)  # 调整形状为 (注意力头数, 查询长度, 键长度)\n",
    "\n",
    "# 在需要可视化注意力权重的地方添加以下代码\n",
    "def visualize_attention(attention_weights):\n",
    "    plt.figure(figsize=(10, 8))\n",
    "    sns.set(font_scale=1.2)\n",
    "    ax = sns.heatmap(attention_weights, cmap=\"YlGnBu\")\n",
    "    plt.xlabel(\"Query\")\n",
    "    plt.ylabel(\"Key\")\n",
    "    plt.title(\"Attention Heatmap\")\n",
    "    plt.show()\n",
    "visualize_attention(attention_weights[1])"
   ]
  },
  {
   "cell_type": "code",
   "execution_count": null,
   "metadata": {},
   "outputs": [
    {
     "data": {
      "image/png": "[encoded data removed]",
      "text/plain": [
       "<Figure size 1000x800 with 2 Axes>"
      ]
     },
     "metadata": {},
     "output_type": "display_data"
    }
   ],
   "source": [
    "import torch\n",
    "import matplotlib.pyplot as plt\n",
    "import seaborn as sns\n",
    "import numpy as np\n",
    "\n",
    "input_id=input_id.to('cuda')\n",
    "segment_id=segment_id.to('cuda')\n",
    "with torch.no_grad(): \n",
    "    embedding_layer=model_best.EmbeddingLayer.forward(input_id,segment_id)\n",
    "    MultiHeadSelfAttention=model_best.transformer_encoder.layers[0].attention_layers\n",
    "    \n",
    "    attention_output=model_best.transformer_encoder.layers[0].attention_layers(embedding_layer,embedding_layer,embedding_layer)\n",
    "    attention_weights=MultiHeadSelfAttention.attention_weights\n",
    "\n",
    "\n",
    "def visualize_attention(attention_weights):\n",
    "     # 计算64个样本的平均注意力权重\n",
    "    mean_sample_attn_weights = np.mean(attention_weights, axis=0)\n",
    "    \n",
    "    # 计算16个自注意力头的平均注意力权重\n",
    "    mean_head_attn_weights = np.mean(mean_sample_attn_weights, axis=0)\n",
    "    \n",
    "    plt.figure(figsize=(10, 8))\n",
    "    sns.set(font_scale=1.2)\n",
    "    ax = sns.heatmap(mean_head_attn_weights, cmap=\"YlGnBu\")\n",
    "    plt.xlabel(\"Query\")\n",
    "    plt.ylabel(\"Key\")\n",
    "    plt.title(\"Merged Attention Heatmap\")\n",
    "    plt.show()\n",
    "visualize_attention(attention_weights)"
   ]
  },
  {
   "cell_type": "code",
   "execution_count": null,
   "metadata": {},
   "outputs": [],
   "source": [
    "def visualize_attention(attention_weights):\n",
    "    # 计算64个样本的平均注意力权重\n",
    "    mean_sample_attn_weights = np.mean(attention_weights, axis=0)\n",
    "    \n",
    "    # 计算16个自注意力头的平均注意力权重\n",
    "    mean_head_attn_weights = np.mean(mean_sample_attn_weights, axis=0)\n",
    "    \n",
    "    plt.figure(figsize=(10, 8))\n",
    "    sns.set(font_scale=1.2)\n",
    "    ax = sns.heatmap(mean_head_attn_weights, cmap=\"YlGnBu\")\n",
    "    \n",
    "    # 在每个格子里添加具体数值标签\n",
    "    for i in range(mean_head_attn_weights.shape[0]):\n",
    "        for j in range(mean_head_attn_weights.shape[1]):\n",
    "            ax.text(j + 0.5, i + 0.5, \"{:.2f}\".format(mean_head_attn_weights[i, j]),\n",
    "                    ha='center', va='center', color='black', fontsize=10)\n",
    "    \n",
    "    plt.xlabel(\"Query\")\n",
    "    plt.ylabel(\"Key\")\n",
    "    plt.title(\"Merged Attention Heatmap\")\n",
    "    plt.show()\n",
    "\n",
    "visualize_attention(attention_weights)"
   ]
  },
  {
   "cell_type": "code",
   "execution_count": 22,
   "metadata": {},
   "outputs": [],
   "source": [
    "from graphviz import Digraph\n",
    "import os\n",
    "\n",
    "def generate_model_structure(model, filename):\n",
    "    os.environ[\"PATH\"] += os.pathsep + 'F:\\Anaconda\\envs\\program\\Lib\\site-packages'\n",
    "    # 创建Graph对象\n",
    "    graph = Digraph(format='png')\n",
    "\n",
    "    # 添加EmbeddingLayer节点和边\n",
    "    graph.node('EmbeddingLayer', label='EmbeddingLayer')\n",
    "    graph.edge('EmbeddingLayer', 'transformer_encoder')\n",
    "\n",
    "    # 添加EmbeddingLayer内部结构节点和边\n",
    "    graph.node('dropout', label='Dropout')\n",
    "    graph.node('inputs_embedding', label='Embedding(17964, 256)')\n",
    "    graph.node('segment_embedding', label='Embedding(2, 256)')\n",
    "\n",
    "    graph.edge('EmbeddingLayer', 'dropout')\n",
    "    graph.edge('dropout', 'inputs_embedding')\n",
    "    graph.edge('dropout', 'segment_embedding')\n",
    "\n",
    "    # 添加TransformerEncoder节点和边\n",
    "    graph.node('transformer_encoder', label='TransformerEncoder')\n",
    "    graph.edge('transformer_encoder', 'classifier')\n",
    "\n",
    "    # 添加TransformerEncoder内部结构节点和边\n",
    "    for i in range(len(model.transformer_encoder.layers)):\n",
    "        layer_name = f'{i}-{i+3}'\n",
    "        graph.node(layer_name, label='TransformerEncoderLayer')\n",
    "\n",
    "        graph.edge('transformer_encoder', layer_name)\n",
    "\n",
    "        graph.node('attention_layers', label='MultiHeadSelfAttention')\n",
    "        graph.node('ffn_layers', label='Feedforward')\n",
    "        graph.node('norm_layers', label='AddAndNorm')\n",
    "        graph.node('dropout_layer', label='Dropout')\n",
    "\n",
    "        graph.edge(layer_name, 'attention_layers')\n",
    "        graph.edge(layer_name, 'ffn_layers')\n",
    "        graph.edge(layer_name, 'norm_layers')\n",
    "        graph.edge(layer_name, 'dropout_layer')\n",
    "\n",
    "        # 添加MultiHeadSelfAttention内部结构节点和边\n",
    "        graph.node('q_linear', label='Linear')\n",
    "        graph.node('k_linear', label='Linear')\n",
    "        graph.node('v_linear', label='Linear')\n",
    "        graph.node('out_linear', label='Linear')\n",
    "\n",
    "        graph.edge('attention_layers', 'q_linear')\n",
    "        graph.edge('attention_layers', 'k_linear')\n",
    "        graph.edge('attention_layers', 'v_linear')\n",
    "        graph.edge('attention_layers', 'out_linear')\n",
    "\n",
    "        # 添加Feedforward内部结构节点和边\n",
    "        graph.node('fc1', label='Linear')\n",
    "        graph.node('relu', label='ReLU')\n",
    "        graph.node('fc2', label='Linear')\n",
    "        graph.node('dropout', label='Dropout')\n",
    "\n",
    "        graph.edge('ffn_layers', 'fc1')\n",
    "        graph.edge('ffn_layers', 'relu')\n",
    "        graph.edge('ffn_layers', 'fc2')\n",
    "        graph.edge('ffn_layers', 'dropout')\n",
    "\n",
    "        # 添加AddAndNorm内部结构节点和边\n",
    "        graph.node('layer_norm', label='LayerNorm')\n",
    "\n",
    "        graph.edge('norm_layers', 'layer_norm')\n",
    "\n",
    "    # 添加Classifier节点和边\n",
    "    graph.node('classifier', label='Linear')\n",
    "\n",
    "    # 保存并渲染图像\n",
    "    graph.render(filename, view=True)"
   ]
  },
  {
   "cell_type": "code",
   "execution_count": 23,
   "metadata": {},
   "outputs": [],
   "source": [
    "generate_model_structure(model, 'model_structure')"
   ]
  },
  {
   "cell_type": "markdown",
   "metadata": {},
   "source": [
    "修改为post-norm"
   ]
  },
  {
   "cell_type": "code",
   "execution_count": null,
   "metadata": {},
   "outputs": [],
   "source": [
    "class TransformerEncoderlayer_1(nn.Module):\n",
    "    def __init__(self, d_model, num_heads, hidden_dim,dropout=0.1):\n",
    "        super(TransformerEncoderlayer_1, self).__init__()\n",
    "        self.attention_layers = MultiHeadSelfAttention(d_model, num_heads)\n",
    "        self.norm1 = nn.LayerNorm(d_model)\n",
    "\n",
    "        self.ffn_layers = Feedforward(d_model, hidden_dim, dropout)\n",
    "        self.norm2 = nn.LayerNorm(d_model)\n",
    "\n",
    "        self.dropout = nn.Dropout(dropout)\n",
    "        \n",
    "    def forward(self,x):\n",
    "        attention_output = self.attention_layers(x,x,x)\n",
    "        attention_output = self.norm1(attention_output + x)\n",
    "\n",
    "        ffn_output = self.ffn_layers(attention_output)\n",
    "        output = self.norm2(ffn_output + attention_output)\n",
    "        \n",
    "        output = self.dropout(output)\n",
    "        return output\n",
    "    \n",
    "class TransformerEncoder(nn.Module):\n",
    "    def __init__(self, d_model, n_heads, hidden_dim, num_layers, dropout=0.1):\n",
    "        super(TransformerEncoder, self).__init__()\n",
    "        self.layers = nn.ModuleList(\n",
    "            [TransformerEncoderlayer_1(d_model, n_heads, hidden_dim, dropout) for _ in range(num_layers)])\n",
    "\n",
    "    def forward(self, x):\n",
    "        for layer in self.layers:\n",
    "            x = layer(x)\n",
    "        return x\n"
   ]
  },
  {
   "cell_type": "code",
   "execution_count": null,
   "metadata": {},
   "outputs": [],
   "source": [
    "class SemanticMatchingModel_1(nn.Module):\n",
    "    def __init__(self, d_model, num_heads, hidden_dim, num_layers,vocab):\n",
    "        super(SemanticMatchingModel_1, self).__init__()\n",
    "        self.vocab = vocab\n",
    "        self.EmbeddingLayer=EmbeddingLayer(self.vocab,embedding_dim=256)\n",
    "        self.transformer_encoder = TransformerEncoder(d_model, num_heads, hidden_dim, num_layers)\n",
    "        self.classifier = nn.Linear(d_model, 2)\n",
    "\n",
    "    def forward(self,inputs,segment):\n",
    "        embedding_layer=self.EmbeddingLayer.forward(inputs,segment)\n",
    "\n",
    "        encoded = self.transformer_encoder(embedding_layer)\n",
    "        encoded, _ = encoded.max(dim=1)\n",
    "        logits = self.classifier(encoded)\n",
    "        \n",
    "        return logits"
   ]
  },
  {
   "cell_type": "code",
   "execution_count": null,
   "metadata": {},
   "outputs": [],
   "source": [
    "SemanticMatchingModel_post=SemanticMatchingModel_1(d_model=256, num_heads=16, hidden_dim=512, num_layers=2,vocab=data.vocab)"
   ]
  },
  {
   "cell_type": "code",
   "execution_count": null,
   "metadata": {},
   "outputs": [
    {
     "data": {
      "text/plain": [
       "SemanticMatchingModel_1(\n",
       "  (EmbeddingLayer): EmbeddingLayer(\n",
       "    (dropout): Dropout(p=0.1, inplace=False)\n",
       "    (inputs_embedding): Embedding(17964, 256, padding_idx=0)\n",
       "    (segment_embedding): Embedding(2, 256, padding_idx=0)\n",
       "  )\n",
       "  (transformer_encoder): TransformerEncoder(\n",
       "    (layers): ModuleList(\n",
       "      (0-1): 2 x TransformerEncoderlayer_1(\n",
       "        (attention_layers): MultiHeadSelfAttention(\n",
       "          (q_linear): Linear(in_features=256, out_features=256, bias=True)\n",
       "          (k_linear): Linear(in_features=256, out_features=256, bias=True)\n",
       "          (v_linear): Linear(in_features=256, out_features=256, bias=True)\n",
       "          (out_linear): Linear(in_features=256, out_features=256, bias=True)\n",
       "        )\n",
       "        (norm1): LayerNorm((256,), eps=1e-05, elementwise_affine=True)\n",
       "        (ffn_layers): Feedforward(\n",
       "          (fc1): Linear(in_features=256, out_features=512, bias=True)\n",
       "          (relu): ReLU()\n",
       "          (fc2): Linear(in_features=512, out_features=256, bias=True)\n",
       "          (dropout): Dropout(p=0.1, inplace=False)\n",
       "        )\n",
       "        (norm2): LayerNorm((256,), eps=1e-05, elementwise_affine=True)\n",
       "        (dropout): Dropout(p=0.1, inplace=False)\n",
       "      )\n",
       "    )\n",
       "  )\n",
       "  (classifier): Linear(in_features=256, out_features=2, bias=True)\n",
       ")"
      ]
     },
     "execution_count": 32,
     "metadata": {},
     "output_type": "execute_result"
    }
   ],
   "source": [
    "SemanticMatchingModel_post.to('cuda')"
   ]
  },
  {
   "cell_type": "code",
   "execution_count": null,
   "metadata": {},
   "outputs": [],
   "source": [
    "import torch\n",
    "import torch.nn as nn\n",
    "import torch.optim as optim\n",
    "from tqdm import tqdm\n",
    "from datetime import datetime\n",
    "\n",
    "from tensorboardX import SummaryWriter\n",
    "\n",
    "# 获取当前时间\n",
    "now = datetime.now().strftime(\"%Y%m%d-%H%M%S\")\n",
    "\n",
    "# 创建SummaryWriter对象，指定保存日志的路径，包含当前时间\n",
    "\n",
    "log_dir = f\"./logs/{now}\"\n",
    "writer = SummaryWriter(log_dir=log_dir)\n",
    "# 使用DataLoader加载数据\n",
    "batch_size = 64\n",
    "train_dataloader = DataLoader(data.dataset_train_oversampled, batch_size=batch_size,shuffle=True,collate_fn=data.collate_fn)\n",
    "dev_dataloader = DataLoader(data.dataset_dev, batch_size=batch_size, shuffle=True,collate_fn=data.collate_fn)\n"
   ]
  },
  {
   "cell_type": "code",
   "execution_count": 34,
   "metadata": {},
   "outputs": [],
   "source": [
    "# 定义损失函数和优化器\n",
    "criterion = nn.CrossEntropyLoss()\n",
    "optimizer = optim.Adam(SemanticMatchingModel_post.parameters(), lr=0.0001)\n",
    "\n",
    "# 训练模型\n",
    "num_epochs = 30"
   ]
  },
  {
   "cell_type": "code",
   "execution_count": 35,
   "metadata": {},
   "outputs": [
    {
     "name": "stderr",
     "output_type": "stream",
     "text": [
      "Epoch 1/30 - Training: 100%|██████████| 372/372 [00:25<00:00, 14.55batch/s, accuracy=0.528, loss=0.668]\n"
     ]
    },
    {
     "name": "stdout",
     "output_type": "stream",
     "text": [
      "Epoch 1/30 - Training Loss: 0.6981, Accuracy: 0.5276\n"
     ]
    },
    {
     "name": "stderr",
     "output_type": "stream",
     "text": [
      "Epoch 1/30 - Validation: 100%|██████████| 68/68 [00:03<00:00, 21.03batch/s, accuracy=0.529, loss=0.744]\n",
      "Epoch 2/30 - Training: 100%|██████████| 372/372 [00:24<00:00, 15.17batch/s, accuracy=0.572, loss=0.623]\n"
     ]
    },
    {
     "name": "stdout",
     "output_type": "stream",
     "text": [
      "Epoch 2/30 - Training Loss: 0.6777, Accuracy: 0.5718\n"
     ]
    },
    {
     "name": "stderr",
     "output_type": "stream",
     "text": [
      "Epoch 2/30 - Validation: 100%|██████████| 68/68 [00:03<00:00, 20.86batch/s, accuracy=0.482, loss=0.711]\n",
      "Epoch 3/30 - Training: 100%|██████████| 372/372 [00:24<00:00, 14.95batch/s, accuracy=0.6, loss=0.491]  \n"
     ]
    },
    {
     "name": "stdout",
     "output_type": "stream",
     "text": [
      "Epoch 3/30 - Training Loss: 0.6614, Accuracy: 0.6002\n"
     ]
    },
    {
     "name": "stderr",
     "output_type": "stream",
     "text": [
      "Epoch 3/30 - Validation: 100%|██████████| 68/68 [00:03<00:00, 20.19batch/s, accuracy=0.346, loss=0.786]\n",
      "Epoch 4/30 - Training: 100%|██████████| 372/372 [00:24<00:00, 14.99batch/s, accuracy=0.62, loss=0.728] \n"
     ]
    },
    {
     "name": "stdout",
     "output_type": "stream",
     "text": [
      "Epoch 4/30 - Training Loss: 0.6489, Accuracy: 0.6195\n"
     ]
    },
    {
     "name": "stderr",
     "output_type": "stream",
     "text": [
      "Epoch 4/30 - Validation: 100%|██████████| 68/68 [00:03<00:00, 20.37batch/s, accuracy=0.556, loss=0.751]\n",
      "Epoch 5/30 - Training: 100%|██████████| 372/372 [00:24<00:00, 15.01batch/s, accuracy=0.651, loss=0.625]\n"
     ]
    },
    {
     "name": "stdout",
     "output_type": "stream",
     "text": [
      "Epoch 5/30 - Training Loss: 0.6274, Accuracy: 0.6507\n"
     ]
    },
    {
     "name": "stderr",
     "output_type": "stream",
     "text": [
      "Epoch 5/30 - Validation: 100%|██████████| 68/68 [00:03<00:00, 19.99batch/s, accuracy=0.593, loss=0.58] \n",
      "Epoch 6/30 - Training: 100%|██████████| 372/372 [00:23<00:00, 15.63batch/s, accuracy=0.681, loss=0.547]\n"
     ]
    },
    {
     "name": "stdout",
     "output_type": "stream",
     "text": [
      "Epoch 6/30 - Training Loss: 0.6036, Accuracy: 0.6809\n"
     ]
    },
    {
     "name": "stderr",
     "output_type": "stream",
     "text": [
      "Epoch 6/30 - Validation: 100%|██████████| 68/68 [00:03<00:00, 21.85batch/s, accuracy=0.514, loss=0.668]\n"
     ]
    },
    {
     "name": "stdout",
     "output_type": "stream",
     "text": [
      "Epoch 6/30 - Validation Loss: 0.7446, Accuracy: 0.5139\n"
     ]
    },
    {
     "name": "stderr",
     "output_type": "stream",
     "text": [
      "Epoch 7/30 - Training: 100%|██████████| 372/372 [00:23<00:00, 15.52batch/s, accuracy=0.701, loss=0.53] \n"
     ]
    },
    {
     "name": "stdout",
     "output_type": "stream",
     "text": [
      "Epoch 7/30 - Training Loss: 0.5823, Accuracy: 0.7011\n"
     ]
    },
    {
     "name": "stderr",
     "output_type": "stream",
     "text": [
      "Epoch 7/30 - Validation: 100%|██████████| 68/68 [00:03<00:00, 21.66batch/s, accuracy=0.576, loss=0.768]\n"
     ]
    },
    {
     "name": "stdout",
     "output_type": "stream",
     "text": [
      "Epoch 7/30 - Validation Loss: 0.6877, Accuracy: 0.5755\n"
     ]
    },
    {
     "name": "stderr",
     "output_type": "stream",
     "text": [
      "Epoch 8/30 - Training: 100%|██████████| 372/372 [00:24<00:00, 15.46batch/s, accuracy=0.729, loss=0.581]\n"
     ]
    },
    {
     "name": "stdout",
     "output_type": "stream",
     "text": [
      "Epoch 8/30 - Training Loss: 0.5565, Accuracy: 0.7293\n"
     ]
    },
    {
     "name": "stderr",
     "output_type": "stream",
     "text": [
      "Epoch 8/30 - Validation: 100%|██████████| 68/68 [00:03<00:00, 20.06batch/s, accuracy=0.484, loss=0.711]\n"
     ]
    },
    {
     "name": "stdout",
     "output_type": "stream",
     "text": [
      "Epoch 8/30 - Validation Loss: 0.7963, Accuracy: 0.4842\n"
     ]
    },
    {
     "name": "stderr",
     "output_type": "stream",
     "text": [
      "Epoch 9/30 - Training: 100%|██████████| 372/372 [00:24<00:00, 15.02batch/s, accuracy=0.755, loss=0.457]\n"
     ]
    },
    {
     "name": "stdout",
     "output_type": "stream",
     "text": [
      "Epoch 9/30 - Training Loss: 0.5277, Accuracy: 0.7550\n"
     ]
    },
    {
     "name": "stderr",
     "output_type": "stream",
     "text": [
      "Epoch 9/30 - Validation: 100%|██████████| 68/68 [00:03<00:00, 21.37batch/s, accuracy=0.618, loss=0.554]\n"
     ]
    },
    {
     "name": "stdout",
     "output_type": "stream",
     "text": [
      "Epoch 9/30 - Validation Loss: 0.6609, Accuracy: 0.6184\n"
     ]
    },
    {
     "name": "stderr",
     "output_type": "stream",
     "text": [
      "Epoch 10/30 - Training: 100%|██████████| 372/372 [00:25<00:00, 14.85batch/s, accuracy=0.78, loss=0.579] \n"
     ]
    },
    {
     "name": "stdout",
     "output_type": "stream",
     "text": [
      "Epoch 10/30 - Training Loss: 0.4991, Accuracy: 0.7798\n"
     ]
    },
    {
     "name": "stderr",
     "output_type": "stream",
     "text": [
      "Epoch 10/30 - Validation: 100%|██████████| 68/68 [00:03<00:00, 20.50batch/s, accuracy=0.618, loss=0.571]\n"
     ]
    },
    {
     "name": "stdout",
     "output_type": "stream",
     "text": [
      "Epoch 10/30 - Validation Loss: 0.6609, Accuracy: 0.6179\n"
     ]
    },
    {
     "name": "stderr",
     "output_type": "stream",
     "text": [
      "Epoch 11/30 - Training: 100%|██████████| 372/372 [00:25<00:00, 14.70batch/s, accuracy=0.798, loss=0.616]\n"
     ]
    },
    {
     "name": "stdout",
     "output_type": "stream",
     "text": [
      "Epoch 11/30 - Training Loss: 0.4686, Accuracy: 0.7981\n"
     ]
    },
    {
     "name": "stderr",
     "output_type": "stream",
     "text": [
      "Epoch 11/30 - Validation: 100%|██████████| 68/68 [00:03<00:00, 18.23batch/s, accuracy=0.565, loss=0.7]  \n"
     ]
    },
    {
     "name": "stdout",
     "output_type": "stream",
     "text": [
      "Epoch 11/30 - Validation Loss: 0.7310, Accuracy: 0.5649\n"
     ]
    },
    {
     "name": "stderr",
     "output_type": "stream",
     "text": [
      "Epoch 12/30 - Training: 100%|██████████| 372/372 [00:27<00:00, 13.70batch/s, accuracy=0.824, loss=0.483]\n"
     ]
    },
    {
     "name": "stdout",
     "output_type": "stream",
     "text": [
      "Epoch 12/30 - Training Loss: 0.4337, Accuracy: 0.8241\n"
     ]
    },
    {
     "name": "stderr",
     "output_type": "stream",
     "text": [
      "Epoch 12/30 - Validation: 100%|██████████| 68/68 [00:03<00:00, 20.06batch/s, accuracy=0.538, loss=0.896]\n"
     ]
    },
    {
     "name": "stdout",
     "output_type": "stream",
     "text": [
      "Epoch 12/30 - Validation Loss: 0.7830, Accuracy: 0.5382\n"
     ]
    },
    {
     "name": "stderr",
     "output_type": "stream",
     "text": [
      "Epoch 13/30 - Training: 100%|██████████| 372/372 [00:25<00:00, 14.33batch/s, accuracy=0.841, loss=0.409]\n"
     ]
    },
    {
     "name": "stdout",
     "output_type": "stream",
     "text": [
      "Epoch 13/30 - Training Loss: 0.4039, Accuracy: 0.8411\n"
     ]
    },
    {
     "name": "stderr",
     "output_type": "stream",
     "text": [
      "Epoch 13/30 - Validation: 100%|██████████| 68/68 [00:03<00:00, 20.43batch/s, accuracy=0.579, loss=0.779]\n"
     ]
    },
    {
     "name": "stdout",
     "output_type": "stream",
     "text": [
      "Epoch 13/30 - Validation Loss: 0.7362, Accuracy: 0.5790\n"
     ]
    },
    {
     "name": "stderr",
     "output_type": "stream",
     "text": [
      "Epoch 14/30 - Training: 100%|██████████| 372/372 [00:25<00:00, 14.39batch/s, accuracy=0.857, loss=0.202]\n"
     ]
    },
    {
     "name": "stdout",
     "output_type": "stream",
     "text": [
      "Epoch 14/30 - Training Loss: 0.3719, Accuracy: 0.8566\n"
     ]
    },
    {
     "name": "stderr",
     "output_type": "stream",
     "text": [
      "Epoch 14/30 - Validation: 100%|██████████| 68/68 [00:03<00:00, 19.83batch/s, accuracy=0.557, loss=0.737]\n"
     ]
    },
    {
     "name": "stdout",
     "output_type": "stream",
     "text": [
      "Epoch 14/30 - Validation Loss: 0.7841, Accuracy: 0.5570\n"
     ]
    },
    {
     "name": "stderr",
     "output_type": "stream",
     "text": [
      "Epoch 15/30 - Training: 100%|██████████| 372/372 [00:26<00:00, 14.06batch/s, accuracy=0.877, loss=0.427]\n"
     ]
    },
    {
     "name": "stdout",
     "output_type": "stream",
     "text": [
      "Epoch 15/30 - Training Loss: 0.3360, Accuracy: 0.8768\n"
     ]
    },
    {
     "name": "stderr",
     "output_type": "stream",
     "text": [
      "Epoch 15/30 - Validation: 100%|██████████| 68/68 [00:03<00:00, 20.43batch/s, accuracy=0.559, loss=1.01] \n"
     ]
    },
    {
     "name": "stdout",
     "output_type": "stream",
     "text": [
      "Epoch 15/30 - Validation Loss: 0.8183, Accuracy: 0.5593\n"
     ]
    },
    {
     "name": "stderr",
     "output_type": "stream",
     "text": [
      "Epoch 16/30 - Training: 100%|██████████| 372/372 [00:25<00:00, 14.86batch/s, accuracy=0.893, loss=0.439]\n"
     ]
    },
    {
     "name": "stdout",
     "output_type": "stream",
     "text": [
      "Epoch 16/30 - Training Loss: 0.3046, Accuracy: 0.8926\n"
     ]
    },
    {
     "name": "stderr",
     "output_type": "stream",
     "text": [
      "Epoch 16/30 - Validation: 100%|██████████| 68/68 [00:03<00:00, 20.89batch/s, accuracy=0.571, loss=0.904]\n"
     ]
    },
    {
     "name": "stdout",
     "output_type": "stream",
     "text": [
      "Epoch 16/30 - Validation Loss: 0.7955, Accuracy: 0.5709\n"
     ]
    },
    {
     "name": "stderr",
     "output_type": "stream",
     "text": [
      "Epoch 17/30 - Training: 100%|██████████| 372/372 [00:25<00:00, 14.62batch/s, accuracy=0.908, loss=0.342]\n"
     ]
    },
    {
     "name": "stdout",
     "output_type": "stream",
     "text": [
      "Epoch 17/30 - Training Loss: 0.2735, Accuracy: 0.9084\n"
     ]
    },
    {
     "name": "stderr",
     "output_type": "stream",
     "text": [
      "Epoch 17/30 - Validation: 100%|██████████| 68/68 [00:03<00:00, 20.17batch/s, accuracy=0.572, loss=1.01] \n"
     ]
    },
    {
     "name": "stdout",
     "output_type": "stream",
     "text": [
      "Epoch 17/30 - Validation Loss: 0.8426, Accuracy: 0.5723\n"
     ]
    },
    {
     "name": "stderr",
     "output_type": "stream",
     "text": [
      "Epoch 18/30 - Training: 100%|██████████| 372/372 [00:24<00:00, 14.97batch/s, accuracy=0.922, loss=0.261]\n"
     ]
    },
    {
     "name": "stdout",
     "output_type": "stream",
     "text": [
      "Epoch 18/30 - Training Loss: 0.2455, Accuracy: 0.9218\n"
     ]
    },
    {
     "name": "stderr",
     "output_type": "stream",
     "text": [
      "Epoch 18/30 - Validation: 100%|██████████| 68/68 [00:03<00:00, 21.03batch/s, accuracy=0.607, loss=0.761]\n"
     ]
    },
    {
     "name": "stdout",
     "output_type": "stream",
     "text": [
      "Epoch 18/30 - Validation Loss: 0.8023, Accuracy: 0.6073\n"
     ]
    },
    {
     "name": "stderr",
     "output_type": "stream",
     "text": [
      "Epoch 19/30 - Training: 100%|██████████| 372/372 [00:24<00:00, 15.23batch/s, accuracy=0.933, loss=0.166]\n"
     ]
    },
    {
     "name": "stdout",
     "output_type": "stream",
     "text": [
      "Epoch 19/30 - Training Loss: 0.2174, Accuracy: 0.9327\n"
     ]
    },
    {
     "name": "stderr",
     "output_type": "stream",
     "text": [
      "Epoch 19/30 - Validation: 100%|██████████| 68/68 [00:03<00:00, 20.86batch/s, accuracy=0.603, loss=0.652]\n"
     ]
    },
    {
     "name": "stdout",
     "output_type": "stream",
     "text": [
      "Epoch 19/30 - Validation Loss: 0.8374, Accuracy: 0.6026\n"
     ]
    },
    {
     "name": "stderr",
     "output_type": "stream",
     "text": [
      "Epoch 20/30 - Training: 100%|██████████| 372/372 [00:24<00:00, 15.27batch/s, accuracy=0.939, loss=0.159]\n"
     ]
    },
    {
     "name": "stdout",
     "output_type": "stream",
     "text": [
      "Epoch 20/30 - Training Loss: 0.1938, Accuracy: 0.9393\n"
     ]
    },
    {
     "name": "stderr",
     "output_type": "stream",
     "text": [
      "Epoch 20/30 - Validation: 100%|██████████| 68/68 [00:03<00:00, 20.57batch/s, accuracy=0.614, loss=0.784]\n"
     ]
    },
    {
     "name": "stdout",
     "output_type": "stream",
     "text": [
      "Epoch 20/30 - Validation Loss: 0.8460, Accuracy: 0.6138\n"
     ]
    },
    {
     "name": "stderr",
     "output_type": "stream",
     "text": [
      "Epoch 21/30 - Training: 100%|██████████| 372/372 [00:24<00:00, 15.07batch/s, accuracy=0.951, loss=0.0918]\n"
     ]
    },
    {
     "name": "stdout",
     "output_type": "stream",
     "text": [
      "Epoch 21/30 - Training Loss: 0.1661, Accuracy: 0.9515\n"
     ]
    },
    {
     "name": "stderr",
     "output_type": "stream",
     "text": [
      "Epoch 21/30 - Validation: 100%|██████████| 68/68 [00:03<00:00, 19.66batch/s, accuracy=0.586, loss=0.953]\n"
     ]
    },
    {
     "name": "stdout",
     "output_type": "stream",
     "text": [
      "Epoch 21/30 - Validation Loss: 0.9269, Accuracy: 0.5860\n"
     ]
    },
    {
     "name": "stderr",
     "output_type": "stream",
     "text": [
      "Epoch 22/30 - Training: 100%|██████████| 372/372 [00:23<00:00, 15.55batch/s, accuracy=0.96, loss=0.146]  \n"
     ]
    },
    {
     "name": "stdout",
     "output_type": "stream",
     "text": [
      "Epoch 22/30 - Training Loss: 0.1446, Accuracy: 0.9601\n"
     ]
    },
    {
     "name": "stderr",
     "output_type": "stream",
     "text": [
      "Epoch 22/30 - Validation: 100%|██████████| 68/68 [00:03<00:00, 19.48batch/s, accuracy=0.581, loss=0.696]\n"
     ]
    },
    {
     "name": "stdout",
     "output_type": "stream",
     "text": [
      "Epoch 22/30 - Validation Loss: 0.9946, Accuracy: 0.5809\n"
     ]
    },
    {
     "name": "stderr",
     "output_type": "stream",
     "text": [
      "Epoch 23/30 - Training: 100%|██████████| 372/372 [00:24<00:00, 15.04batch/s, accuracy=0.967, loss=0.337] \n"
     ]
    },
    {
     "name": "stdout",
     "output_type": "stream",
     "text": [
      "Epoch 23/30 - Training Loss: 0.1247, Accuracy: 0.9670\n"
     ]
    },
    {
     "name": "stderr",
     "output_type": "stream",
     "text": [
      "Epoch 23/30 - Validation: 100%|██████████| 68/68 [00:03<00:00, 20.65batch/s, accuracy=0.586, loss=0.664]\n"
     ]
    },
    {
     "name": "stdout",
     "output_type": "stream",
     "text": [
      "Epoch 23/30 - Validation Loss: 1.0140, Accuracy: 0.5862\n"
     ]
    },
    {
     "name": "stderr",
     "output_type": "stream",
     "text": [
      "Epoch 24/30 - Training: 100%|██████████| 372/372 [00:24<00:00, 15.15batch/s, accuracy=0.97, loss=0.0909] \n"
     ]
    },
    {
     "name": "stdout",
     "output_type": "stream",
     "text": [
      "Epoch 24/30 - Training Loss: 0.1098, Accuracy: 0.9702\n"
     ]
    },
    {
     "name": "stderr",
     "output_type": "stream",
     "text": [
      "Epoch 24/30 - Validation: 100%|██████████| 68/68 [00:03<00:00, 21.19batch/s, accuracy=0.591, loss=0.685]\n"
     ]
    },
    {
     "name": "stdout",
     "output_type": "stream",
     "text": [
      "Epoch 24/30 - Validation Loss: 1.0551, Accuracy: 0.5913\n"
     ]
    },
    {
     "name": "stderr",
     "output_type": "stream",
     "text": [
      "Epoch 25/30 - Training: 100%|██████████| 372/372 [00:24<00:00, 15.26batch/s, accuracy=0.976, loss=0.095] \n"
     ]
    },
    {
     "name": "stdout",
     "output_type": "stream",
     "text": [
      "Epoch 25/30 - Training Loss: 0.0930, Accuracy: 0.9763\n"
     ]
    },
    {
     "name": "stderr",
     "output_type": "stream",
     "text": [
      "Epoch 25/30 - Validation: 100%|██████████| 68/68 [00:03<00:00, 21.17batch/s, accuracy=0.602, loss=1.26] \n"
     ]
    },
    {
     "name": "stdout",
     "output_type": "stream",
     "text": [
      "Epoch 25/30 - Validation Loss: 1.0741, Accuracy: 0.6022\n"
     ]
    },
    {
     "name": "stderr",
     "output_type": "stream",
     "text": [
      "Epoch 26/30 - Training: 100%|██████████| 372/372 [00:24<00:00, 15.17batch/s, accuracy=0.981, loss=0.0665]\n"
     ]
    },
    {
     "name": "stdout",
     "output_type": "stream",
     "text": [
      "Epoch 26/30 - Training Loss: 0.0818, Accuracy: 0.9811\n"
     ]
    },
    {
     "name": "stderr",
     "output_type": "stream",
     "text": [
      "Epoch 26/30 - Validation: 100%|██████████| 68/68 [00:03<00:00, 21.15batch/s, accuracy=0.636, loss=1.51] \n"
     ]
    },
    {
     "name": "stdout",
     "output_type": "stream",
     "text": [
      "Epoch 26/30 - Validation Loss: 1.0860, Accuracy: 0.6355\n"
     ]
    },
    {
     "name": "stderr",
     "output_type": "stream",
     "text": [
      "Epoch 27/30 - Training: 100%|██████████| 372/372 [00:24<00:00, 15.16batch/s, accuracy=0.984, loss=0.0395]\n"
     ]
    },
    {
     "name": "stdout",
     "output_type": "stream",
     "text": [
      "Epoch 27/30 - Training Loss: 0.0698, Accuracy: 0.9838\n"
     ]
    },
    {
     "name": "stderr",
     "output_type": "stream",
     "text": [
      "Epoch 27/30 - Validation: 100%|██████████| 68/68 [00:03<00:00, 20.37batch/s, accuracy=0.549, loss=1.29] \n"
     ]
    },
    {
     "name": "stdout",
     "output_type": "stream",
     "text": [
      "Epoch 27/30 - Validation Loss: 1.3685, Accuracy: 0.5491\n"
     ]
    },
    {
     "name": "stderr",
     "output_type": "stream",
     "text": [
      "Epoch 28/30 - Training: 100%|██████████| 372/372 [00:25<00:00, 14.47batch/s, accuracy=0.987, loss=0.023] \n"
     ]
    },
    {
     "name": "stdout",
     "output_type": "stream",
     "text": [
      "Epoch 28/30 - Training Loss: 0.0609, Accuracy: 0.9868\n"
     ]
    },
    {
     "name": "stderr",
     "output_type": "stream",
     "text": [
      "Epoch 28/30 - Validation: 100%|██████████| 68/68 [00:03<00:00, 21.45batch/s, accuracy=0.639, loss=1.46] \n"
     ]
    },
    {
     "name": "stdout",
     "output_type": "stream",
     "text": [
      "Epoch 28/30 - Validation Loss: 1.1691, Accuracy: 0.6395\n"
     ]
    },
    {
     "name": "stderr",
     "output_type": "stream",
     "text": [
      "Epoch 29/30 - Training: 100%|██████████| 372/372 [00:25<00:00, 14.79batch/s, accuracy=0.99, loss=0.0236] \n"
     ]
    },
    {
     "name": "stdout",
     "output_type": "stream",
     "text": [
      "Epoch 29/30 - Training Loss: 0.0505, Accuracy: 0.9896\n"
     ]
    },
    {
     "name": "stderr",
     "output_type": "stream",
     "text": [
      "Epoch 29/30 - Validation: 100%|██████████| 68/68 [00:03<00:00, 19.79batch/s, accuracy=0.598, loss=0.87] \n"
     ]
    },
    {
     "name": "stdout",
     "output_type": "stream",
     "text": [
      "Epoch 29/30 - Validation Loss: 1.3195, Accuracy: 0.5985\n"
     ]
    },
    {
     "name": "stderr",
     "output_type": "stream",
     "text": [
      "Epoch 30/30 - Training: 100%|██████████| 372/372 [00:25<00:00, 14.75batch/s, accuracy=0.99, loss=0.0668] \n"
     ]
    },
    {
     "name": "stdout",
     "output_type": "stream",
     "text": [
      "Epoch 30/30 - Training Loss: 0.0454, Accuracy: 0.9900\n"
     ]
    },
    {
     "name": "stderr",
     "output_type": "stream",
     "text": [
      "Epoch 30/30 - Validation: 100%|██████████| 68/68 [00:03<00:00, 20.22batch/s, accuracy=0.604, loss=1.09] \n"
     ]
    },
    {
     "name": "stdout",
     "output_type": "stream",
     "text": [
      "Epoch 30/30 - Validation Loss: 1.2681, Accuracy: 0.6045\n",
      "Best Validation Accuracy: 0.6395\n"
     ]
    }
   ],
   "source": [
    "import copy\n",
    "best_accuracy = 0.0\n",
    "for epoch in range(num_epochs):\n",
    "    model.train()\n",
    "    total_loss = 0.0\n",
    "    correct_count = 0\n",
    "    total_count = 0\n",
    "\n",
    "    with tqdm(train_dataloader, desc=f\"Epoch {epoch + 1}/{num_epochs} - Training\", unit=\"batch\") as train_bar:\n",
    "        for item in train_bar:\n",
    "            input_id, segment_id, label = item\n",
    "            input_id = input_id.to('cuda')\n",
    "            segment_id = segment_id.to('cuda')\n",
    "            label = label.to('cuda')\n",
    "            optimizer.zero_grad()\n",
    "            output = SemanticMatchingModel_post(input_id, segment_id)\n",
    "            loss = criterion(output, label)\n",
    "            loss.backward()\n",
    "            optimizer.step()\n",
    "\n",
    "            total_loss += loss.item()\n",
    "\n",
    "            _, predicted = torch.max(output, 1)\n",
    "            correct_count += (predicted == label).sum().item()\n",
    "            total_count += label.size(0)\n",
    "\n",
    "            train_bar.set_postfix(loss=loss.item(), accuracy=correct_count / total_count)\n",
    "\n",
    "    avg_loss = total_loss / len(train_dataloader)\n",
    "    accuracy = correct_count / total_count\n",
    "\n",
    "        # 记录loss和accuracy\n",
    "    writer.add_scalar(\"Train/Loss\", avg_loss, epoch)\n",
    "    writer.add_scalar(\"Train/Accuracy\", accuracy, epoch)\n",
    "\n",
    "    print(f\"Epoch {epoch + 1}/{num_epochs} - Training Loss: {avg_loss:.4f}, Accuracy: {accuracy:.4f}\")\n",
    "\n",
    "    model.eval()\n",
    "    total_loss = 0.0\n",
    "    correct_count = 0\n",
    "    total_count = 0\n",
    "\n",
    "    with torch.no_grad():\n",
    "        with tqdm(dev_dataloader, desc=f\"Epoch {epoch + 1}/{num_epochs} - Validation\", unit=\"batch\") as dev_bar:\n",
    "            for item in dev_bar:\n",
    "                input_id, segment_id, label = item\n",
    "                input_id = input_id.to('cuda')\n",
    "                segment_id = segment_id.to('cuda')\n",
    "                label = label.to('cuda')\n",
    "                output = SemanticMatchingModel_post(input_id, segment_id)\n",
    "                loss = criterion(output, label)\n",
    "                total_loss += loss.item()\n",
    "\n",
    "                _, predicted = torch.max(output, 1)\n",
    "                correct_count += (predicted == label).sum().item()\n",
    "                total_count += label.size(0)\n",
    "\n",
    "                dev_bar.set_postfix(loss=loss.item(), accuracy=correct_count / total_count)\n",
    "\n",
    "    avg_loss = total_loss / len(dev_dataloader)\n",
    "    accuracy = correct_count / total_count\n",
    "    if accuracy > best_accuracy:\n",
    "        if epoch < 5:#前5轮不计入best_model的数据，loss和正确率正常记录\n",
    "            continue\n",
    "        else:\n",
    "            best_accuracy = accuracy\n",
    "            model_best = copy.deepcopy(SemanticMatchingModel_post)\n",
    "            model_best = model_best.to('cpu')\n",
    "            model.to('cuda')\n",
    "    # 记录loss和accuracy\n",
    "    writer.add_scalar(\"val/Loss\", avg_loss, epoch)\n",
    "    writer.add_scalar(\"val/Accuracy\", accuracy, epoch)\n",
    "    print(f\"Epoch {epoch + 1}/{num_epochs} - Validation Loss: {avg_loss:.4f}, Accuracy: {accuracy:.4f}\")\n",
    "# 关闭SummaryWriter\n",
    "# 打印最高正确率\n",
    "print(f\"Best Validation Accuracy: {best_accuracy:.4f}\")\n",
    "torch.save(model_best,'./model/best_model_layer4_post.pth')\n",
    "writer.close()"
   ]
  }
 ],
 "metadata": {
  "kernelspec": {
   "display_name": "program",
   "language": "python",
   "name": "python3"
  },
  "language_info": {
   "codemirror_mode": {
    "name": "ipython",
    "version": 3
   },
   "file_extension": ".py",
   "mimetype": "text/x-python",
   "name": "python",
   "nbconvert_exporter": "python",
   "pygments_lexer": "ipython3",
   "version": "3.10.0"
  }
 },
 "nbformat": 4,
 "nbformat_minor": 2
}
